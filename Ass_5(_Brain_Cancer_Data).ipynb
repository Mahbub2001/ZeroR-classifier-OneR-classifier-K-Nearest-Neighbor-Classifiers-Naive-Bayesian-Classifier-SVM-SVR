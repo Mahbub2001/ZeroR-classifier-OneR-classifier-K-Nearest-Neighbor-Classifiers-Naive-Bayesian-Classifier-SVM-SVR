{
  "nbformat": 4,
  "nbformat_minor": 0,
  "metadata": {
    "colab": {
      "provenance": [],
      "collapsed_sections": [
        "ppYID3-_-EIK",
        "kv6MFVqlGSt8",
        "ONw49CTOkOGR",
        "jsw-v28ip4gV"
      ]
    },
    "kernelspec": {
      "name": "python3",
      "display_name": "Python 3"
    },
    "language_info": {
      "name": "python"
    }
  },
  "cells": [
    {
      "cell_type": "code",
      "execution_count": 1298,
      "metadata": {
        "colab": {
          "base_uri": "https://localhost:8080/"
        },
        "id": "v9YARMzVvxHl",
        "outputId": "aac92ab7-44a1-4e79-b90a-c93a4f060b65"
      },
      "outputs": [
        {
          "output_type": "stream",
          "name": "stdout",
          "text": [
            "Drive already mounted at /content/drive; to attempt to forcibly remount, call drive.mount(\"/content/drive\", force_remount=True).\n"
          ]
        }
      ],
      "source": [
        "from google.colab import drive\n",
        "drive.mount('/content/drive')\n"
      ]
    },
    {
      "cell_type": "code",
      "source": [
        "import numpy as np\n",
        "import pandas as pd\n",
        "import seaborn as sns\n",
        "import matplotlib.pyplot as plt\n",
        "import sklearn\n",
        "from sklearn.model_selection import train_test_split, GridSearchCV\n",
        "from sklearn.tree import DecisionTreeClassifier\n",
        "from xgboost import XGBClassifier\n",
        "from sklearn.metrics import precision_recall_curve\n",
        "from sklearn.preprocessing import OneHotEncoder"
      ],
      "metadata": {
        "id": "i5SkW91wwPsF"
      },
      "execution_count": 1299,
      "outputs": []
    },
    {
      "cell_type": "code",
      "source": [
        "df=pd.read_csv(\"/content/drive/MyDrive/Colab Notebooks/DT-BrainCancer.csv\")"
      ],
      "metadata": {
        "id": "MfSGhwpHwkgu"
      },
      "execution_count": 1300,
      "outputs": []
    },
    {
      "cell_type": "code",
      "source": [
        "df.head()"
      ],
      "metadata": {
        "colab": {
          "base_uri": "https://localhost:8080/",
          "height": 206
        },
        "id": "lSA_SRNUxiTm",
        "outputId": "d403720d-c30e-4047-dc6a-da5759e637a9"
      },
      "execution_count": 1301,
      "outputs": [
        {
          "output_type": "execute_result",
          "data": {
            "text/plain": [
              "   Unnamed: 0     sex   diagnosis             loc  ki    gtv  status\n",
              "0           1  Female  Meningioma  Infratentorial  90   6.11       0\n",
              "1           2    Male   HG glioma  Supratentorial  90  19.35       1\n",
              "2           3  Female  Meningioma  Infratentorial  70   7.95       0\n",
              "3           4  Female   LG glioma  Supratentorial  80   7.61       1\n",
              "4           5    Male   HG glioma  Supratentorial  90   5.06       1"
            ],
            "text/html": [
              "\n",
              "  <div id=\"df-d40398ac-e043-4167-9b97-6ddbb75975b8\" class=\"colab-df-container\">\n",
              "    <div>\n",
              "<style scoped>\n",
              "    .dataframe tbody tr th:only-of-type {\n",
              "        vertical-align: middle;\n",
              "    }\n",
              "\n",
              "    .dataframe tbody tr th {\n",
              "        vertical-align: top;\n",
              "    }\n",
              "\n",
              "    .dataframe thead th {\n",
              "        text-align: right;\n",
              "    }\n",
              "</style>\n",
              "<table border=\"1\" class=\"dataframe\">\n",
              "  <thead>\n",
              "    <tr style=\"text-align: right;\">\n",
              "      <th></th>\n",
              "      <th>Unnamed: 0</th>\n",
              "      <th>sex</th>\n",
              "      <th>diagnosis</th>\n",
              "      <th>loc</th>\n",
              "      <th>ki</th>\n",
              "      <th>gtv</th>\n",
              "      <th>status</th>\n",
              "    </tr>\n",
              "  </thead>\n",
              "  <tbody>\n",
              "    <tr>\n",
              "      <th>0</th>\n",
              "      <td>1</td>\n",
              "      <td>Female</td>\n",
              "      <td>Meningioma</td>\n",
              "      <td>Infratentorial</td>\n",
              "      <td>90</td>\n",
              "      <td>6.11</td>\n",
              "      <td>0</td>\n",
              "    </tr>\n",
              "    <tr>\n",
              "      <th>1</th>\n",
              "      <td>2</td>\n",
              "      <td>Male</td>\n",
              "      <td>HG glioma</td>\n",
              "      <td>Supratentorial</td>\n",
              "      <td>90</td>\n",
              "      <td>19.35</td>\n",
              "      <td>1</td>\n",
              "    </tr>\n",
              "    <tr>\n",
              "      <th>2</th>\n",
              "      <td>3</td>\n",
              "      <td>Female</td>\n",
              "      <td>Meningioma</td>\n",
              "      <td>Infratentorial</td>\n",
              "      <td>70</td>\n",
              "      <td>7.95</td>\n",
              "      <td>0</td>\n",
              "    </tr>\n",
              "    <tr>\n",
              "      <th>3</th>\n",
              "      <td>4</td>\n",
              "      <td>Female</td>\n",
              "      <td>LG glioma</td>\n",
              "      <td>Supratentorial</td>\n",
              "      <td>80</td>\n",
              "      <td>7.61</td>\n",
              "      <td>1</td>\n",
              "    </tr>\n",
              "    <tr>\n",
              "      <th>4</th>\n",
              "      <td>5</td>\n",
              "      <td>Male</td>\n",
              "      <td>HG glioma</td>\n",
              "      <td>Supratentorial</td>\n",
              "      <td>90</td>\n",
              "      <td>5.06</td>\n",
              "      <td>1</td>\n",
              "    </tr>\n",
              "  </tbody>\n",
              "</table>\n",
              "</div>\n",
              "    <div class=\"colab-df-buttons\">\n",
              "\n",
              "  <div class=\"colab-df-container\">\n",
              "    <button class=\"colab-df-convert\" onclick=\"convertToInteractive('df-d40398ac-e043-4167-9b97-6ddbb75975b8')\"\n",
              "            title=\"Convert this dataframe to an interactive table.\"\n",
              "            style=\"display:none;\">\n",
              "\n",
              "  <svg xmlns=\"http://www.w3.org/2000/svg\" height=\"24px\" viewBox=\"0 -960 960 960\">\n",
              "    <path d=\"M120-120v-720h720v720H120Zm60-500h600v-160H180v160Zm220 220h160v-160H400v160Zm0 220h160v-160H400v160ZM180-400h160v-160H180v160Zm440 0h160v-160H620v160ZM180-180h160v-160H180v160Zm440 0h160v-160H620v160Z\"/>\n",
              "  </svg>\n",
              "    </button>\n",
              "\n",
              "  <style>\n",
              "    .colab-df-container {\n",
              "      display:flex;\n",
              "      gap: 12px;\n",
              "    }\n",
              "\n",
              "    .colab-df-convert {\n",
              "      background-color: #E8F0FE;\n",
              "      border: none;\n",
              "      border-radius: 50%;\n",
              "      cursor: pointer;\n",
              "      display: none;\n",
              "      fill: #1967D2;\n",
              "      height: 32px;\n",
              "      padding: 0 0 0 0;\n",
              "      width: 32px;\n",
              "    }\n",
              "\n",
              "    .colab-df-convert:hover {\n",
              "      background-color: #E2EBFA;\n",
              "      box-shadow: 0px 1px 2px rgba(60, 64, 67, 0.3), 0px 1px 3px 1px rgba(60, 64, 67, 0.15);\n",
              "      fill: #174EA6;\n",
              "    }\n",
              "\n",
              "    .colab-df-buttons div {\n",
              "      margin-bottom: 4px;\n",
              "    }\n",
              "\n",
              "    [theme=dark] .colab-df-convert {\n",
              "      background-color: #3B4455;\n",
              "      fill: #D2E3FC;\n",
              "    }\n",
              "\n",
              "    [theme=dark] .colab-df-convert:hover {\n",
              "      background-color: #434B5C;\n",
              "      box-shadow: 0px 1px 3px 1px rgba(0, 0, 0, 0.15);\n",
              "      filter: drop-shadow(0px 1px 2px rgba(0, 0, 0, 0.3));\n",
              "      fill: #FFFFFF;\n",
              "    }\n",
              "  </style>\n",
              "\n",
              "    <script>\n",
              "      const buttonEl =\n",
              "        document.querySelector('#df-d40398ac-e043-4167-9b97-6ddbb75975b8 button.colab-df-convert');\n",
              "      buttonEl.style.display =\n",
              "        google.colab.kernel.accessAllowed ? 'block' : 'none';\n",
              "\n",
              "      async function convertToInteractive(key) {\n",
              "        const element = document.querySelector('#df-d40398ac-e043-4167-9b97-6ddbb75975b8');\n",
              "        const dataTable =\n",
              "          await google.colab.kernel.invokeFunction('convertToInteractive',\n",
              "                                                    [key], {});\n",
              "        if (!dataTable) return;\n",
              "\n",
              "        const docLinkHtml = 'Like what you see? Visit the ' +\n",
              "          '<a target=\"_blank\" href=https://colab.research.google.com/notebooks/data_table.ipynb>data table notebook</a>'\n",
              "          + ' to learn more about interactive tables.';\n",
              "        element.innerHTML = '';\n",
              "        dataTable['output_type'] = 'display_data';\n",
              "        await google.colab.output.renderOutput(dataTable, element);\n",
              "        const docLink = document.createElement('div');\n",
              "        docLink.innerHTML = docLinkHtml;\n",
              "        element.appendChild(docLink);\n",
              "      }\n",
              "    </script>\n",
              "  </div>\n",
              "\n",
              "\n",
              "<div id=\"df-a4d0a3a7-79ac-496f-8b7e-06a285486daf\">\n",
              "  <button class=\"colab-df-quickchart\" onclick=\"quickchart('df-a4d0a3a7-79ac-496f-8b7e-06a285486daf')\"\n",
              "            title=\"Suggest charts\"\n",
              "            style=\"display:none;\">\n",
              "\n",
              "<svg xmlns=\"http://www.w3.org/2000/svg\" height=\"24px\"viewBox=\"0 0 24 24\"\n",
              "     width=\"24px\">\n",
              "    <g>\n",
              "        <path d=\"M19 3H5c-1.1 0-2 .9-2 2v14c0 1.1.9 2 2 2h14c1.1 0 2-.9 2-2V5c0-1.1-.9-2-2-2zM9 17H7v-7h2v7zm4 0h-2V7h2v10zm4 0h-2v-4h2v4z\"/>\n",
              "    </g>\n",
              "</svg>\n",
              "  </button>\n",
              "\n",
              "<style>\n",
              "  .colab-df-quickchart {\n",
              "      --bg-color: #E8F0FE;\n",
              "      --fill-color: #1967D2;\n",
              "      --hover-bg-color: #E2EBFA;\n",
              "      --hover-fill-color: #174EA6;\n",
              "      --disabled-fill-color: #AAA;\n",
              "      --disabled-bg-color: #DDD;\n",
              "  }\n",
              "\n",
              "  [theme=dark] .colab-df-quickchart {\n",
              "      --bg-color: #3B4455;\n",
              "      --fill-color: #D2E3FC;\n",
              "      --hover-bg-color: #434B5C;\n",
              "      --hover-fill-color: #FFFFFF;\n",
              "      --disabled-bg-color: #3B4455;\n",
              "      --disabled-fill-color: #666;\n",
              "  }\n",
              "\n",
              "  .colab-df-quickchart {\n",
              "    background-color: var(--bg-color);\n",
              "    border: none;\n",
              "    border-radius: 50%;\n",
              "    cursor: pointer;\n",
              "    display: none;\n",
              "    fill: var(--fill-color);\n",
              "    height: 32px;\n",
              "    padding: 0;\n",
              "    width: 32px;\n",
              "  }\n",
              "\n",
              "  .colab-df-quickchart:hover {\n",
              "    background-color: var(--hover-bg-color);\n",
              "    box-shadow: 0 1px 2px rgba(60, 64, 67, 0.3), 0 1px 3px 1px rgba(60, 64, 67, 0.15);\n",
              "    fill: var(--button-hover-fill-color);\n",
              "  }\n",
              "\n",
              "  .colab-df-quickchart-complete:disabled,\n",
              "  .colab-df-quickchart-complete:disabled:hover {\n",
              "    background-color: var(--disabled-bg-color);\n",
              "    fill: var(--disabled-fill-color);\n",
              "    box-shadow: none;\n",
              "  }\n",
              "\n",
              "  .colab-df-spinner {\n",
              "    border: 2px solid var(--fill-color);\n",
              "    border-color: transparent;\n",
              "    border-bottom-color: var(--fill-color);\n",
              "    animation:\n",
              "      spin 1s steps(1) infinite;\n",
              "  }\n",
              "\n",
              "  @keyframes spin {\n",
              "    0% {\n",
              "      border-color: transparent;\n",
              "      border-bottom-color: var(--fill-color);\n",
              "      border-left-color: var(--fill-color);\n",
              "    }\n",
              "    20% {\n",
              "      border-color: transparent;\n",
              "      border-left-color: var(--fill-color);\n",
              "      border-top-color: var(--fill-color);\n",
              "    }\n",
              "    30% {\n",
              "      border-color: transparent;\n",
              "      border-left-color: var(--fill-color);\n",
              "      border-top-color: var(--fill-color);\n",
              "      border-right-color: var(--fill-color);\n",
              "    }\n",
              "    40% {\n",
              "      border-color: transparent;\n",
              "      border-right-color: var(--fill-color);\n",
              "      border-top-color: var(--fill-color);\n",
              "    }\n",
              "    60% {\n",
              "      border-color: transparent;\n",
              "      border-right-color: var(--fill-color);\n",
              "    }\n",
              "    80% {\n",
              "      border-color: transparent;\n",
              "      border-right-color: var(--fill-color);\n",
              "      border-bottom-color: var(--fill-color);\n",
              "    }\n",
              "    90% {\n",
              "      border-color: transparent;\n",
              "      border-bottom-color: var(--fill-color);\n",
              "    }\n",
              "  }\n",
              "</style>\n",
              "\n",
              "  <script>\n",
              "    async function quickchart(key) {\n",
              "      const quickchartButtonEl =\n",
              "        document.querySelector('#' + key + ' button');\n",
              "      quickchartButtonEl.disabled = true;  // To prevent multiple clicks.\n",
              "      quickchartButtonEl.classList.add('colab-df-spinner');\n",
              "      try {\n",
              "        const charts = await google.colab.kernel.invokeFunction(\n",
              "            'suggestCharts', [key], {});\n",
              "      } catch (error) {\n",
              "        console.error('Error during call to suggestCharts:', error);\n",
              "      }\n",
              "      quickchartButtonEl.classList.remove('colab-df-spinner');\n",
              "      quickchartButtonEl.classList.add('colab-df-quickchart-complete');\n",
              "    }\n",
              "    (() => {\n",
              "      let quickchartButtonEl =\n",
              "        document.querySelector('#df-a4d0a3a7-79ac-496f-8b7e-06a285486daf button');\n",
              "      quickchartButtonEl.style.display =\n",
              "        google.colab.kernel.accessAllowed ? 'block' : 'none';\n",
              "    })();\n",
              "  </script>\n",
              "</div>\n",
              "\n",
              "    </div>\n",
              "  </div>\n"
            ],
            "application/vnd.google.colaboratory.intrinsic+json": {
              "type": "dataframe",
              "variable_name": "df",
              "summary": "{\n  \"name\": \"df\",\n  \"rows\": 88,\n  \"fields\": [\n    {\n      \"column\": \"Unnamed: 0\",\n      \"properties\": {\n        \"dtype\": \"number\",\n        \"std\": 25,\n        \"min\": 1,\n        \"max\": 88,\n        \"num_unique_values\": 88,\n        \"samples\": [\n          77,\n          1,\n          27\n        ],\n        \"semantic_type\": \"\",\n        \"description\": \"\"\n      }\n    },\n    {\n      \"column\": \"sex\",\n      \"properties\": {\n        \"dtype\": \"category\",\n        \"num_unique_values\": 2,\n        \"samples\": [\n          \"Male\",\n          \"Female\"\n        ],\n        \"semantic_type\": \"\",\n        \"description\": \"\"\n      }\n    },\n    {\n      \"column\": \"diagnosis\",\n      \"properties\": {\n        \"dtype\": \"category\",\n        \"num_unique_values\": 4,\n        \"samples\": [\n          \"HG glioma\",\n          \"Other\"\n        ],\n        \"semantic_type\": \"\",\n        \"description\": \"\"\n      }\n    },\n    {\n      \"column\": \"loc\",\n      \"properties\": {\n        \"dtype\": \"category\",\n        \"num_unique_values\": 2,\n        \"samples\": [\n          \"Supratentorial\",\n          \"Infratentorial\"\n        ],\n        \"semantic_type\": \"\",\n        \"description\": \"\"\n      }\n    },\n    {\n      \"column\": \"ki\",\n      \"properties\": {\n        \"dtype\": \"number\",\n        \"std\": 10,\n        \"min\": 40,\n        \"max\": 100,\n        \"num_unique_values\": 6,\n        \"samples\": [\n          90,\n          70\n        ],\n        \"semantic_type\": \"\",\n        \"description\": \"\"\n      }\n    },\n    {\n      \"column\": \"gtv\",\n      \"properties\": {\n        \"dtype\": \"number\",\n        \"std\": 8.65757620796726,\n        \"min\": 0.01,\n        \"max\": 34.64,\n        \"num_unique_values\": 84,\n        \"samples\": [\n          2.39,\n          6.11\n        ],\n        \"semantic_type\": \"\",\n        \"description\": \"\"\n      }\n    },\n    {\n      \"column\": \"status\",\n      \"properties\": {\n        \"dtype\": \"number\",\n        \"std\": 0,\n        \"min\": 0,\n        \"max\": 1,\n        \"num_unique_values\": 2,\n        \"samples\": [\n          1,\n          0\n        ],\n        \"semantic_type\": \"\",\n        \"description\": \"\"\n      }\n    }\n  ]\n}"
            }
          },
          "metadata": {},
          "execution_count": 1301
        }
      ]
    },
    {
      "cell_type": "code",
      "source": [
        "df.info()"
      ],
      "metadata": {
        "colab": {
          "base_uri": "https://localhost:8080/"
        },
        "id": "66355_UNyMFh",
        "outputId": "886d7de0-3c26-4dcd-c38c-171c08ccfcd8"
      },
      "execution_count": 1302,
      "outputs": [
        {
          "output_type": "stream",
          "name": "stdout",
          "text": [
            "<class 'pandas.core.frame.DataFrame'>\n",
            "RangeIndex: 88 entries, 0 to 87\n",
            "Data columns (total 7 columns):\n",
            " #   Column      Non-Null Count  Dtype  \n",
            "---  ------      --------------  -----  \n",
            " 0   Unnamed: 0  88 non-null     int64  \n",
            " 1   sex         88 non-null     object \n",
            " 2   diagnosis   87 non-null     object \n",
            " 3   loc         88 non-null     object \n",
            " 4   ki          88 non-null     int64  \n",
            " 5   gtv         88 non-null     float64\n",
            " 6   status      88 non-null     int64  \n",
            "dtypes: float64(1), int64(3), object(3)\n",
            "memory usage: 4.9+ KB\n"
          ]
        }
      ]
    },
    {
      "cell_type": "code",
      "source": [
        "df.describe()"
      ],
      "metadata": {
        "id": "QyGA4pkIyUZp",
        "outputId": "c9daf069-5edd-4f3c-facb-8280ae07f8af",
        "colab": {
          "base_uri": "https://localhost:8080/",
          "height": 300
        }
      },
      "execution_count": 1303,
      "outputs": [
        {
          "output_type": "execute_result",
          "data": {
            "text/plain": [
              "       Unnamed: 0          ki        gtv     status\n",
              "count   88.000000   88.000000  88.000000  88.000000\n",
              "mean    44.500000   81.022727   8.660795   0.397727\n",
              "std     25.547342   10.508866   8.657576   0.492233\n",
              "min      1.000000   40.000000   0.010000   0.000000\n",
              "25%     22.750000   80.000000   2.500000   0.000000\n",
              "50%     44.500000   80.000000   6.510000   0.000000\n",
              "75%     66.250000   90.000000  12.100000   1.000000\n",
              "max     88.000000  100.000000  34.640000   1.000000"
            ],
            "text/html": [
              "\n",
              "  <div id=\"df-7480a2e3-9280-4fed-b058-d9796ddb7e53\" class=\"colab-df-container\">\n",
              "    <div>\n",
              "<style scoped>\n",
              "    .dataframe tbody tr th:only-of-type {\n",
              "        vertical-align: middle;\n",
              "    }\n",
              "\n",
              "    .dataframe tbody tr th {\n",
              "        vertical-align: top;\n",
              "    }\n",
              "\n",
              "    .dataframe thead th {\n",
              "        text-align: right;\n",
              "    }\n",
              "</style>\n",
              "<table border=\"1\" class=\"dataframe\">\n",
              "  <thead>\n",
              "    <tr style=\"text-align: right;\">\n",
              "      <th></th>\n",
              "      <th>Unnamed: 0</th>\n",
              "      <th>ki</th>\n",
              "      <th>gtv</th>\n",
              "      <th>status</th>\n",
              "    </tr>\n",
              "  </thead>\n",
              "  <tbody>\n",
              "    <tr>\n",
              "      <th>count</th>\n",
              "      <td>88.000000</td>\n",
              "      <td>88.000000</td>\n",
              "      <td>88.000000</td>\n",
              "      <td>88.000000</td>\n",
              "    </tr>\n",
              "    <tr>\n",
              "      <th>mean</th>\n",
              "      <td>44.500000</td>\n",
              "      <td>81.022727</td>\n",
              "      <td>8.660795</td>\n",
              "      <td>0.397727</td>\n",
              "    </tr>\n",
              "    <tr>\n",
              "      <th>std</th>\n",
              "      <td>25.547342</td>\n",
              "      <td>10.508866</td>\n",
              "      <td>8.657576</td>\n",
              "      <td>0.492233</td>\n",
              "    </tr>\n",
              "    <tr>\n",
              "      <th>min</th>\n",
              "      <td>1.000000</td>\n",
              "      <td>40.000000</td>\n",
              "      <td>0.010000</td>\n",
              "      <td>0.000000</td>\n",
              "    </tr>\n",
              "    <tr>\n",
              "      <th>25%</th>\n",
              "      <td>22.750000</td>\n",
              "      <td>80.000000</td>\n",
              "      <td>2.500000</td>\n",
              "      <td>0.000000</td>\n",
              "    </tr>\n",
              "    <tr>\n",
              "      <th>50%</th>\n",
              "      <td>44.500000</td>\n",
              "      <td>80.000000</td>\n",
              "      <td>6.510000</td>\n",
              "      <td>0.000000</td>\n",
              "    </tr>\n",
              "    <tr>\n",
              "      <th>75%</th>\n",
              "      <td>66.250000</td>\n",
              "      <td>90.000000</td>\n",
              "      <td>12.100000</td>\n",
              "      <td>1.000000</td>\n",
              "    </tr>\n",
              "    <tr>\n",
              "      <th>max</th>\n",
              "      <td>88.000000</td>\n",
              "      <td>100.000000</td>\n",
              "      <td>34.640000</td>\n",
              "      <td>1.000000</td>\n",
              "    </tr>\n",
              "  </tbody>\n",
              "</table>\n",
              "</div>\n",
              "    <div class=\"colab-df-buttons\">\n",
              "\n",
              "  <div class=\"colab-df-container\">\n",
              "    <button class=\"colab-df-convert\" onclick=\"convertToInteractive('df-7480a2e3-9280-4fed-b058-d9796ddb7e53')\"\n",
              "            title=\"Convert this dataframe to an interactive table.\"\n",
              "            style=\"display:none;\">\n",
              "\n",
              "  <svg xmlns=\"http://www.w3.org/2000/svg\" height=\"24px\" viewBox=\"0 -960 960 960\">\n",
              "    <path d=\"M120-120v-720h720v720H120Zm60-500h600v-160H180v160Zm220 220h160v-160H400v160Zm0 220h160v-160H400v160ZM180-400h160v-160H180v160Zm440 0h160v-160H620v160ZM180-180h160v-160H180v160Zm440 0h160v-160H620v160Z\"/>\n",
              "  </svg>\n",
              "    </button>\n",
              "\n",
              "  <style>\n",
              "    .colab-df-container {\n",
              "      display:flex;\n",
              "      gap: 12px;\n",
              "    }\n",
              "\n",
              "    .colab-df-convert {\n",
              "      background-color: #E8F0FE;\n",
              "      border: none;\n",
              "      border-radius: 50%;\n",
              "      cursor: pointer;\n",
              "      display: none;\n",
              "      fill: #1967D2;\n",
              "      height: 32px;\n",
              "      padding: 0 0 0 0;\n",
              "      width: 32px;\n",
              "    }\n",
              "\n",
              "    .colab-df-convert:hover {\n",
              "      background-color: #E2EBFA;\n",
              "      box-shadow: 0px 1px 2px rgba(60, 64, 67, 0.3), 0px 1px 3px 1px rgba(60, 64, 67, 0.15);\n",
              "      fill: #174EA6;\n",
              "    }\n",
              "\n",
              "    .colab-df-buttons div {\n",
              "      margin-bottom: 4px;\n",
              "    }\n",
              "\n",
              "    [theme=dark] .colab-df-convert {\n",
              "      background-color: #3B4455;\n",
              "      fill: #D2E3FC;\n",
              "    }\n",
              "\n",
              "    [theme=dark] .colab-df-convert:hover {\n",
              "      background-color: #434B5C;\n",
              "      box-shadow: 0px 1px 3px 1px rgba(0, 0, 0, 0.15);\n",
              "      filter: drop-shadow(0px 1px 2px rgba(0, 0, 0, 0.3));\n",
              "      fill: #FFFFFF;\n",
              "    }\n",
              "  </style>\n",
              "\n",
              "    <script>\n",
              "      const buttonEl =\n",
              "        document.querySelector('#df-7480a2e3-9280-4fed-b058-d9796ddb7e53 button.colab-df-convert');\n",
              "      buttonEl.style.display =\n",
              "        google.colab.kernel.accessAllowed ? 'block' : 'none';\n",
              "\n",
              "      async function convertToInteractive(key) {\n",
              "        const element = document.querySelector('#df-7480a2e3-9280-4fed-b058-d9796ddb7e53');\n",
              "        const dataTable =\n",
              "          await google.colab.kernel.invokeFunction('convertToInteractive',\n",
              "                                                    [key], {});\n",
              "        if (!dataTable) return;\n",
              "\n",
              "        const docLinkHtml = 'Like what you see? Visit the ' +\n",
              "          '<a target=\"_blank\" href=https://colab.research.google.com/notebooks/data_table.ipynb>data table notebook</a>'\n",
              "          + ' to learn more about interactive tables.';\n",
              "        element.innerHTML = '';\n",
              "        dataTable['output_type'] = 'display_data';\n",
              "        await google.colab.output.renderOutput(dataTable, element);\n",
              "        const docLink = document.createElement('div');\n",
              "        docLink.innerHTML = docLinkHtml;\n",
              "        element.appendChild(docLink);\n",
              "      }\n",
              "    </script>\n",
              "  </div>\n",
              "\n",
              "\n",
              "<div id=\"df-8a65745d-cae6-49c8-98e2-444e1b1c8340\">\n",
              "  <button class=\"colab-df-quickchart\" onclick=\"quickchart('df-8a65745d-cae6-49c8-98e2-444e1b1c8340')\"\n",
              "            title=\"Suggest charts\"\n",
              "            style=\"display:none;\">\n",
              "\n",
              "<svg xmlns=\"http://www.w3.org/2000/svg\" height=\"24px\"viewBox=\"0 0 24 24\"\n",
              "     width=\"24px\">\n",
              "    <g>\n",
              "        <path d=\"M19 3H5c-1.1 0-2 .9-2 2v14c0 1.1.9 2 2 2h14c1.1 0 2-.9 2-2V5c0-1.1-.9-2-2-2zM9 17H7v-7h2v7zm4 0h-2V7h2v10zm4 0h-2v-4h2v4z\"/>\n",
              "    </g>\n",
              "</svg>\n",
              "  </button>\n",
              "\n",
              "<style>\n",
              "  .colab-df-quickchart {\n",
              "      --bg-color: #E8F0FE;\n",
              "      --fill-color: #1967D2;\n",
              "      --hover-bg-color: #E2EBFA;\n",
              "      --hover-fill-color: #174EA6;\n",
              "      --disabled-fill-color: #AAA;\n",
              "      --disabled-bg-color: #DDD;\n",
              "  }\n",
              "\n",
              "  [theme=dark] .colab-df-quickchart {\n",
              "      --bg-color: #3B4455;\n",
              "      --fill-color: #D2E3FC;\n",
              "      --hover-bg-color: #434B5C;\n",
              "      --hover-fill-color: #FFFFFF;\n",
              "      --disabled-bg-color: #3B4455;\n",
              "      --disabled-fill-color: #666;\n",
              "  }\n",
              "\n",
              "  .colab-df-quickchart {\n",
              "    background-color: var(--bg-color);\n",
              "    border: none;\n",
              "    border-radius: 50%;\n",
              "    cursor: pointer;\n",
              "    display: none;\n",
              "    fill: var(--fill-color);\n",
              "    height: 32px;\n",
              "    padding: 0;\n",
              "    width: 32px;\n",
              "  }\n",
              "\n",
              "  .colab-df-quickchart:hover {\n",
              "    background-color: var(--hover-bg-color);\n",
              "    box-shadow: 0 1px 2px rgba(60, 64, 67, 0.3), 0 1px 3px 1px rgba(60, 64, 67, 0.15);\n",
              "    fill: var(--button-hover-fill-color);\n",
              "  }\n",
              "\n",
              "  .colab-df-quickchart-complete:disabled,\n",
              "  .colab-df-quickchart-complete:disabled:hover {\n",
              "    background-color: var(--disabled-bg-color);\n",
              "    fill: var(--disabled-fill-color);\n",
              "    box-shadow: none;\n",
              "  }\n",
              "\n",
              "  .colab-df-spinner {\n",
              "    border: 2px solid var(--fill-color);\n",
              "    border-color: transparent;\n",
              "    border-bottom-color: var(--fill-color);\n",
              "    animation:\n",
              "      spin 1s steps(1) infinite;\n",
              "  }\n",
              "\n",
              "  @keyframes spin {\n",
              "    0% {\n",
              "      border-color: transparent;\n",
              "      border-bottom-color: var(--fill-color);\n",
              "      border-left-color: var(--fill-color);\n",
              "    }\n",
              "    20% {\n",
              "      border-color: transparent;\n",
              "      border-left-color: var(--fill-color);\n",
              "      border-top-color: var(--fill-color);\n",
              "    }\n",
              "    30% {\n",
              "      border-color: transparent;\n",
              "      border-left-color: var(--fill-color);\n",
              "      border-top-color: var(--fill-color);\n",
              "      border-right-color: var(--fill-color);\n",
              "    }\n",
              "    40% {\n",
              "      border-color: transparent;\n",
              "      border-right-color: var(--fill-color);\n",
              "      border-top-color: var(--fill-color);\n",
              "    }\n",
              "    60% {\n",
              "      border-color: transparent;\n",
              "      border-right-color: var(--fill-color);\n",
              "    }\n",
              "    80% {\n",
              "      border-color: transparent;\n",
              "      border-right-color: var(--fill-color);\n",
              "      border-bottom-color: var(--fill-color);\n",
              "    }\n",
              "    90% {\n",
              "      border-color: transparent;\n",
              "      border-bottom-color: var(--fill-color);\n",
              "    }\n",
              "  }\n",
              "</style>\n",
              "\n",
              "  <script>\n",
              "    async function quickchart(key) {\n",
              "      const quickchartButtonEl =\n",
              "        document.querySelector('#' + key + ' button');\n",
              "      quickchartButtonEl.disabled = true;  // To prevent multiple clicks.\n",
              "      quickchartButtonEl.classList.add('colab-df-spinner');\n",
              "      try {\n",
              "        const charts = await google.colab.kernel.invokeFunction(\n",
              "            'suggestCharts', [key], {});\n",
              "      } catch (error) {\n",
              "        console.error('Error during call to suggestCharts:', error);\n",
              "      }\n",
              "      quickchartButtonEl.classList.remove('colab-df-spinner');\n",
              "      quickchartButtonEl.classList.add('colab-df-quickchart-complete');\n",
              "    }\n",
              "    (() => {\n",
              "      let quickchartButtonEl =\n",
              "        document.querySelector('#df-8a65745d-cae6-49c8-98e2-444e1b1c8340 button');\n",
              "      quickchartButtonEl.style.display =\n",
              "        google.colab.kernel.accessAllowed ? 'block' : 'none';\n",
              "    })();\n",
              "  </script>\n",
              "</div>\n",
              "\n",
              "    </div>\n",
              "  </div>\n"
            ],
            "application/vnd.google.colaboratory.intrinsic+json": {
              "type": "dataframe",
              "summary": "{\n  \"name\": \"df\",\n  \"rows\": 8,\n  \"fields\": [\n    {\n      \"column\": \"Unnamed: 0\",\n      \"properties\": {\n        \"dtype\": \"number\",\n        \"std\": 31.411455507423902,\n        \"min\": 1.0,\n        \"max\": 88.0,\n        \"num_unique_values\": 6,\n        \"samples\": [\n          88.0,\n          44.5,\n          66.25\n        ],\n        \"semantic_type\": \"\",\n        \"description\": \"\"\n      }\n    },\n    {\n      \"column\": \"ki\",\n      \"properties\": {\n        \"dtype\": \"number\",\n        \"std\": 30.174111808184623,\n        \"min\": 10.508865740086115,\n        \"max\": 100.0,\n        \"num_unique_values\": 7,\n        \"samples\": [\n          88.0,\n          81.02272727272727,\n          90.0\n        ],\n        \"semantic_type\": \"\",\n        \"description\": \"\"\n      }\n    },\n    {\n      \"column\": \"gtv\",\n      \"properties\": {\n        \"dtype\": \"number\",\n        \"std\": 29.38817200488614,\n        \"min\": 0.01,\n        \"max\": 88.0,\n        \"num_unique_values\": 8,\n        \"samples\": [\n          8.660795454545454,\n          6.51,\n          88.0\n        ],\n        \"semantic_type\": \"\",\n        \"description\": \"\"\n      }\n    },\n    {\n      \"column\": \"status\",\n      \"properties\": {\n        \"dtype\": \"number\",\n        \"std\": 30.969518110316343,\n        \"min\": 0.0,\n        \"max\": 88.0,\n        \"num_unique_values\": 5,\n        \"samples\": [\n          0.3977272727272727,\n          1.0,\n          0.4922333043530434\n        ],\n        \"semantic_type\": \"\",\n        \"description\": \"\"\n      }\n    }\n  ]\n}"
            }
          },
          "metadata": {},
          "execution_count": 1303
        }
      ]
    },
    {
      "cell_type": "code",
      "source": [
        "df.count()"
      ],
      "metadata": {
        "colab": {
          "base_uri": "https://localhost:8080/",
          "height": 304
        },
        "id": "rNCPBQG7ym0V",
        "outputId": "3118291c-d0ba-4010-ca48-a5aa3272629f"
      },
      "execution_count": 1304,
      "outputs": [
        {
          "output_type": "execute_result",
          "data": {
            "text/plain": [
              "Unnamed: 0    88\n",
              "sex           88\n",
              "diagnosis     87\n",
              "loc           88\n",
              "ki            88\n",
              "gtv           88\n",
              "status        88\n",
              "dtype: int64"
            ],
            "text/html": [
              "<div>\n",
              "<style scoped>\n",
              "    .dataframe tbody tr th:only-of-type {\n",
              "        vertical-align: middle;\n",
              "    }\n",
              "\n",
              "    .dataframe tbody tr th {\n",
              "        vertical-align: top;\n",
              "    }\n",
              "\n",
              "    .dataframe thead th {\n",
              "        text-align: right;\n",
              "    }\n",
              "</style>\n",
              "<table border=\"1\" class=\"dataframe\">\n",
              "  <thead>\n",
              "    <tr style=\"text-align: right;\">\n",
              "      <th></th>\n",
              "      <th>0</th>\n",
              "    </tr>\n",
              "  </thead>\n",
              "  <tbody>\n",
              "    <tr>\n",
              "      <th>Unnamed: 0</th>\n",
              "      <td>88</td>\n",
              "    </tr>\n",
              "    <tr>\n",
              "      <th>sex</th>\n",
              "      <td>88</td>\n",
              "    </tr>\n",
              "    <tr>\n",
              "      <th>diagnosis</th>\n",
              "      <td>87</td>\n",
              "    </tr>\n",
              "    <tr>\n",
              "      <th>loc</th>\n",
              "      <td>88</td>\n",
              "    </tr>\n",
              "    <tr>\n",
              "      <th>ki</th>\n",
              "      <td>88</td>\n",
              "    </tr>\n",
              "    <tr>\n",
              "      <th>gtv</th>\n",
              "      <td>88</td>\n",
              "    </tr>\n",
              "    <tr>\n",
              "      <th>status</th>\n",
              "      <td>88</td>\n",
              "    </tr>\n",
              "  </tbody>\n",
              "</table>\n",
              "</div><br><label><b>dtype:</b> int64</label>"
            ]
          },
          "metadata": {},
          "execution_count": 1304
        }
      ]
    },
    {
      "cell_type": "code",
      "source": [
        "df.isnull().sum()"
      ],
      "metadata": {
        "colab": {
          "base_uri": "https://localhost:8080/",
          "height": 304
        },
        "id": "5FGyTgcCypoj",
        "outputId": "ceb75a4f-f6e0-48e5-ea0c-f6266f31d4eb"
      },
      "execution_count": 1305,
      "outputs": [
        {
          "output_type": "execute_result",
          "data": {
            "text/plain": [
              "Unnamed: 0    0\n",
              "sex           0\n",
              "diagnosis     1\n",
              "loc           0\n",
              "ki            0\n",
              "gtv           0\n",
              "status        0\n",
              "dtype: int64"
            ],
            "text/html": [
              "<div>\n",
              "<style scoped>\n",
              "    .dataframe tbody tr th:only-of-type {\n",
              "        vertical-align: middle;\n",
              "    }\n",
              "\n",
              "    .dataframe tbody tr th {\n",
              "        vertical-align: top;\n",
              "    }\n",
              "\n",
              "    .dataframe thead th {\n",
              "        text-align: right;\n",
              "    }\n",
              "</style>\n",
              "<table border=\"1\" class=\"dataframe\">\n",
              "  <thead>\n",
              "    <tr style=\"text-align: right;\">\n",
              "      <th></th>\n",
              "      <th>0</th>\n",
              "    </tr>\n",
              "  </thead>\n",
              "  <tbody>\n",
              "    <tr>\n",
              "      <th>Unnamed: 0</th>\n",
              "      <td>0</td>\n",
              "    </tr>\n",
              "    <tr>\n",
              "      <th>sex</th>\n",
              "      <td>0</td>\n",
              "    </tr>\n",
              "    <tr>\n",
              "      <th>diagnosis</th>\n",
              "      <td>1</td>\n",
              "    </tr>\n",
              "    <tr>\n",
              "      <th>loc</th>\n",
              "      <td>0</td>\n",
              "    </tr>\n",
              "    <tr>\n",
              "      <th>ki</th>\n",
              "      <td>0</td>\n",
              "    </tr>\n",
              "    <tr>\n",
              "      <th>gtv</th>\n",
              "      <td>0</td>\n",
              "    </tr>\n",
              "    <tr>\n",
              "      <th>status</th>\n",
              "      <td>0</td>\n",
              "    </tr>\n",
              "  </tbody>\n",
              "</table>\n",
              "</div><br><label><b>dtype:</b> int64</label>"
            ]
          },
          "metadata": {},
          "execution_count": 1305
        }
      ]
    },
    {
      "cell_type": "code",
      "source": [
        "df = df.dropna()\n"
      ],
      "metadata": {
        "id": "_1hR9pTtyphP"
      },
      "execution_count": 1306,
      "outputs": []
    },
    {
      "cell_type": "code",
      "source": [
        "df.isnull().sum()"
      ],
      "metadata": {
        "colab": {
          "base_uri": "https://localhost:8080/",
          "height": 304
        },
        "id": "uRBLp3dlypc0",
        "outputId": "08fac6af-1ebb-4756-cd9f-b71530a487f8"
      },
      "execution_count": 1307,
      "outputs": [
        {
          "output_type": "execute_result",
          "data": {
            "text/plain": [
              "Unnamed: 0    0\n",
              "sex           0\n",
              "diagnosis     0\n",
              "loc           0\n",
              "ki            0\n",
              "gtv           0\n",
              "status        0\n",
              "dtype: int64"
            ],
            "text/html": [
              "<div>\n",
              "<style scoped>\n",
              "    .dataframe tbody tr th:only-of-type {\n",
              "        vertical-align: middle;\n",
              "    }\n",
              "\n",
              "    .dataframe tbody tr th {\n",
              "        vertical-align: top;\n",
              "    }\n",
              "\n",
              "    .dataframe thead th {\n",
              "        text-align: right;\n",
              "    }\n",
              "</style>\n",
              "<table border=\"1\" class=\"dataframe\">\n",
              "  <thead>\n",
              "    <tr style=\"text-align: right;\">\n",
              "      <th></th>\n",
              "      <th>0</th>\n",
              "    </tr>\n",
              "  </thead>\n",
              "  <tbody>\n",
              "    <tr>\n",
              "      <th>Unnamed: 0</th>\n",
              "      <td>0</td>\n",
              "    </tr>\n",
              "    <tr>\n",
              "      <th>sex</th>\n",
              "      <td>0</td>\n",
              "    </tr>\n",
              "    <tr>\n",
              "      <th>diagnosis</th>\n",
              "      <td>0</td>\n",
              "    </tr>\n",
              "    <tr>\n",
              "      <th>loc</th>\n",
              "      <td>0</td>\n",
              "    </tr>\n",
              "    <tr>\n",
              "      <th>ki</th>\n",
              "      <td>0</td>\n",
              "    </tr>\n",
              "    <tr>\n",
              "      <th>gtv</th>\n",
              "      <td>0</td>\n",
              "    </tr>\n",
              "    <tr>\n",
              "      <th>status</th>\n",
              "      <td>0</td>\n",
              "    </tr>\n",
              "  </tbody>\n",
              "</table>\n",
              "</div><br><label><b>dtype:</b> int64</label>"
            ]
          },
          "metadata": {},
          "execution_count": 1307
        }
      ]
    },
    {
      "cell_type": "code",
      "source": [
        "df.shape"
      ],
      "metadata": {
        "colab": {
          "base_uri": "https://localhost:8080/"
        },
        "id": "GEaQ0mTDypVk",
        "outputId": "f1b689b6-0f01-4bdf-b38b-2ed59afea715"
      },
      "execution_count": 1308,
      "outputs": [
        {
          "output_type": "execute_result",
          "data": {
            "text/plain": [
              "(87, 7)"
            ]
          },
          "metadata": {},
          "execution_count": 1308
        }
      ]
    },
    {
      "cell_type": "code",
      "source": [
        "df = df.drop('Unnamed: 0', axis=1)"
      ],
      "metadata": {
        "id": "SkD_N9mgypN7"
      },
      "execution_count": 1309,
      "outputs": []
    },
    {
      "cell_type": "code",
      "source": [
        "df.shape"
      ],
      "metadata": {
        "colab": {
          "base_uri": "https://localhost:8080/"
        },
        "id": "CUoizxTxyo-D",
        "outputId": "12f42b95-e752-4455-e9bf-cb732311f25d"
      },
      "execution_count": 1310,
      "outputs": [
        {
          "output_type": "execute_result",
          "data": {
            "text/plain": [
              "(87, 6)"
            ]
          },
          "metadata": {},
          "execution_count": 1310
        }
      ]
    },
    {
      "cell_type": "code",
      "source": [
        "df.head()"
      ],
      "metadata": {
        "colab": {
          "base_uri": "https://localhost:8080/",
          "height": 206
        },
        "id": "RsixsYFo070M",
        "outputId": "6c781dda-93f1-4865-a0e1-e6607d5a6f50"
      },
      "execution_count": 1311,
      "outputs": [
        {
          "output_type": "execute_result",
          "data": {
            "text/plain": [
              "      sex   diagnosis             loc  ki    gtv  status\n",
              "0  Female  Meningioma  Infratentorial  90   6.11       0\n",
              "1    Male   HG glioma  Supratentorial  90  19.35       1\n",
              "2  Female  Meningioma  Infratentorial  70   7.95       0\n",
              "3  Female   LG glioma  Supratentorial  80   7.61       1\n",
              "4    Male   HG glioma  Supratentorial  90   5.06       1"
            ],
            "text/html": [
              "\n",
              "  <div id=\"df-fe384c00-a57c-4b03-b8de-1cb722e70bdf\" class=\"colab-df-container\">\n",
              "    <div>\n",
              "<style scoped>\n",
              "    .dataframe tbody tr th:only-of-type {\n",
              "        vertical-align: middle;\n",
              "    }\n",
              "\n",
              "    .dataframe tbody tr th {\n",
              "        vertical-align: top;\n",
              "    }\n",
              "\n",
              "    .dataframe thead th {\n",
              "        text-align: right;\n",
              "    }\n",
              "</style>\n",
              "<table border=\"1\" class=\"dataframe\">\n",
              "  <thead>\n",
              "    <tr style=\"text-align: right;\">\n",
              "      <th></th>\n",
              "      <th>sex</th>\n",
              "      <th>diagnosis</th>\n",
              "      <th>loc</th>\n",
              "      <th>ki</th>\n",
              "      <th>gtv</th>\n",
              "      <th>status</th>\n",
              "    </tr>\n",
              "  </thead>\n",
              "  <tbody>\n",
              "    <tr>\n",
              "      <th>0</th>\n",
              "      <td>Female</td>\n",
              "      <td>Meningioma</td>\n",
              "      <td>Infratentorial</td>\n",
              "      <td>90</td>\n",
              "      <td>6.11</td>\n",
              "      <td>0</td>\n",
              "    </tr>\n",
              "    <tr>\n",
              "      <th>1</th>\n",
              "      <td>Male</td>\n",
              "      <td>HG glioma</td>\n",
              "      <td>Supratentorial</td>\n",
              "      <td>90</td>\n",
              "      <td>19.35</td>\n",
              "      <td>1</td>\n",
              "    </tr>\n",
              "    <tr>\n",
              "      <th>2</th>\n",
              "      <td>Female</td>\n",
              "      <td>Meningioma</td>\n",
              "      <td>Infratentorial</td>\n",
              "      <td>70</td>\n",
              "      <td>7.95</td>\n",
              "      <td>0</td>\n",
              "    </tr>\n",
              "    <tr>\n",
              "      <th>3</th>\n",
              "      <td>Female</td>\n",
              "      <td>LG glioma</td>\n",
              "      <td>Supratentorial</td>\n",
              "      <td>80</td>\n",
              "      <td>7.61</td>\n",
              "      <td>1</td>\n",
              "    </tr>\n",
              "    <tr>\n",
              "      <th>4</th>\n",
              "      <td>Male</td>\n",
              "      <td>HG glioma</td>\n",
              "      <td>Supratentorial</td>\n",
              "      <td>90</td>\n",
              "      <td>5.06</td>\n",
              "      <td>1</td>\n",
              "    </tr>\n",
              "  </tbody>\n",
              "</table>\n",
              "</div>\n",
              "    <div class=\"colab-df-buttons\">\n",
              "\n",
              "  <div class=\"colab-df-container\">\n",
              "    <button class=\"colab-df-convert\" onclick=\"convertToInteractive('df-fe384c00-a57c-4b03-b8de-1cb722e70bdf')\"\n",
              "            title=\"Convert this dataframe to an interactive table.\"\n",
              "            style=\"display:none;\">\n",
              "\n",
              "  <svg xmlns=\"http://www.w3.org/2000/svg\" height=\"24px\" viewBox=\"0 -960 960 960\">\n",
              "    <path d=\"M120-120v-720h720v720H120Zm60-500h600v-160H180v160Zm220 220h160v-160H400v160Zm0 220h160v-160H400v160ZM180-400h160v-160H180v160Zm440 0h160v-160H620v160ZM180-180h160v-160H180v160Zm440 0h160v-160H620v160Z\"/>\n",
              "  </svg>\n",
              "    </button>\n",
              "\n",
              "  <style>\n",
              "    .colab-df-container {\n",
              "      display:flex;\n",
              "      gap: 12px;\n",
              "    }\n",
              "\n",
              "    .colab-df-convert {\n",
              "      background-color: #E8F0FE;\n",
              "      border: none;\n",
              "      border-radius: 50%;\n",
              "      cursor: pointer;\n",
              "      display: none;\n",
              "      fill: #1967D2;\n",
              "      height: 32px;\n",
              "      padding: 0 0 0 0;\n",
              "      width: 32px;\n",
              "    }\n",
              "\n",
              "    .colab-df-convert:hover {\n",
              "      background-color: #E2EBFA;\n",
              "      box-shadow: 0px 1px 2px rgba(60, 64, 67, 0.3), 0px 1px 3px 1px rgba(60, 64, 67, 0.15);\n",
              "      fill: #174EA6;\n",
              "    }\n",
              "\n",
              "    .colab-df-buttons div {\n",
              "      margin-bottom: 4px;\n",
              "    }\n",
              "\n",
              "    [theme=dark] .colab-df-convert {\n",
              "      background-color: #3B4455;\n",
              "      fill: #D2E3FC;\n",
              "    }\n",
              "\n",
              "    [theme=dark] .colab-df-convert:hover {\n",
              "      background-color: #434B5C;\n",
              "      box-shadow: 0px 1px 3px 1px rgba(0, 0, 0, 0.15);\n",
              "      filter: drop-shadow(0px 1px 2px rgba(0, 0, 0, 0.3));\n",
              "      fill: #FFFFFF;\n",
              "    }\n",
              "  </style>\n",
              "\n",
              "    <script>\n",
              "      const buttonEl =\n",
              "        document.querySelector('#df-fe384c00-a57c-4b03-b8de-1cb722e70bdf button.colab-df-convert');\n",
              "      buttonEl.style.display =\n",
              "        google.colab.kernel.accessAllowed ? 'block' : 'none';\n",
              "\n",
              "      async function convertToInteractive(key) {\n",
              "        const element = document.querySelector('#df-fe384c00-a57c-4b03-b8de-1cb722e70bdf');\n",
              "        const dataTable =\n",
              "          await google.colab.kernel.invokeFunction('convertToInteractive',\n",
              "                                                    [key], {});\n",
              "        if (!dataTable) return;\n",
              "\n",
              "        const docLinkHtml = 'Like what you see? Visit the ' +\n",
              "          '<a target=\"_blank\" href=https://colab.research.google.com/notebooks/data_table.ipynb>data table notebook</a>'\n",
              "          + ' to learn more about interactive tables.';\n",
              "        element.innerHTML = '';\n",
              "        dataTable['output_type'] = 'display_data';\n",
              "        await google.colab.output.renderOutput(dataTable, element);\n",
              "        const docLink = document.createElement('div');\n",
              "        docLink.innerHTML = docLinkHtml;\n",
              "        element.appendChild(docLink);\n",
              "      }\n",
              "    </script>\n",
              "  </div>\n",
              "\n",
              "\n",
              "<div id=\"df-6f5117bd-b676-4f61-9f3b-9222e4014fa0\">\n",
              "  <button class=\"colab-df-quickchart\" onclick=\"quickchart('df-6f5117bd-b676-4f61-9f3b-9222e4014fa0')\"\n",
              "            title=\"Suggest charts\"\n",
              "            style=\"display:none;\">\n",
              "\n",
              "<svg xmlns=\"http://www.w3.org/2000/svg\" height=\"24px\"viewBox=\"0 0 24 24\"\n",
              "     width=\"24px\">\n",
              "    <g>\n",
              "        <path d=\"M19 3H5c-1.1 0-2 .9-2 2v14c0 1.1.9 2 2 2h14c1.1 0 2-.9 2-2V5c0-1.1-.9-2-2-2zM9 17H7v-7h2v7zm4 0h-2V7h2v10zm4 0h-2v-4h2v4z\"/>\n",
              "    </g>\n",
              "</svg>\n",
              "  </button>\n",
              "\n",
              "<style>\n",
              "  .colab-df-quickchart {\n",
              "      --bg-color: #E8F0FE;\n",
              "      --fill-color: #1967D2;\n",
              "      --hover-bg-color: #E2EBFA;\n",
              "      --hover-fill-color: #174EA6;\n",
              "      --disabled-fill-color: #AAA;\n",
              "      --disabled-bg-color: #DDD;\n",
              "  }\n",
              "\n",
              "  [theme=dark] .colab-df-quickchart {\n",
              "      --bg-color: #3B4455;\n",
              "      --fill-color: #D2E3FC;\n",
              "      --hover-bg-color: #434B5C;\n",
              "      --hover-fill-color: #FFFFFF;\n",
              "      --disabled-bg-color: #3B4455;\n",
              "      --disabled-fill-color: #666;\n",
              "  }\n",
              "\n",
              "  .colab-df-quickchart {\n",
              "    background-color: var(--bg-color);\n",
              "    border: none;\n",
              "    border-radius: 50%;\n",
              "    cursor: pointer;\n",
              "    display: none;\n",
              "    fill: var(--fill-color);\n",
              "    height: 32px;\n",
              "    padding: 0;\n",
              "    width: 32px;\n",
              "  }\n",
              "\n",
              "  .colab-df-quickchart:hover {\n",
              "    background-color: var(--hover-bg-color);\n",
              "    box-shadow: 0 1px 2px rgba(60, 64, 67, 0.3), 0 1px 3px 1px rgba(60, 64, 67, 0.15);\n",
              "    fill: var(--button-hover-fill-color);\n",
              "  }\n",
              "\n",
              "  .colab-df-quickchart-complete:disabled,\n",
              "  .colab-df-quickchart-complete:disabled:hover {\n",
              "    background-color: var(--disabled-bg-color);\n",
              "    fill: var(--disabled-fill-color);\n",
              "    box-shadow: none;\n",
              "  }\n",
              "\n",
              "  .colab-df-spinner {\n",
              "    border: 2px solid var(--fill-color);\n",
              "    border-color: transparent;\n",
              "    border-bottom-color: var(--fill-color);\n",
              "    animation:\n",
              "      spin 1s steps(1) infinite;\n",
              "  }\n",
              "\n",
              "  @keyframes spin {\n",
              "    0% {\n",
              "      border-color: transparent;\n",
              "      border-bottom-color: var(--fill-color);\n",
              "      border-left-color: var(--fill-color);\n",
              "    }\n",
              "    20% {\n",
              "      border-color: transparent;\n",
              "      border-left-color: var(--fill-color);\n",
              "      border-top-color: var(--fill-color);\n",
              "    }\n",
              "    30% {\n",
              "      border-color: transparent;\n",
              "      border-left-color: var(--fill-color);\n",
              "      border-top-color: var(--fill-color);\n",
              "      border-right-color: var(--fill-color);\n",
              "    }\n",
              "    40% {\n",
              "      border-color: transparent;\n",
              "      border-right-color: var(--fill-color);\n",
              "      border-top-color: var(--fill-color);\n",
              "    }\n",
              "    60% {\n",
              "      border-color: transparent;\n",
              "      border-right-color: var(--fill-color);\n",
              "    }\n",
              "    80% {\n",
              "      border-color: transparent;\n",
              "      border-right-color: var(--fill-color);\n",
              "      border-bottom-color: var(--fill-color);\n",
              "    }\n",
              "    90% {\n",
              "      border-color: transparent;\n",
              "      border-bottom-color: var(--fill-color);\n",
              "    }\n",
              "  }\n",
              "</style>\n",
              "\n",
              "  <script>\n",
              "    async function quickchart(key) {\n",
              "      const quickchartButtonEl =\n",
              "        document.querySelector('#' + key + ' button');\n",
              "      quickchartButtonEl.disabled = true;  // To prevent multiple clicks.\n",
              "      quickchartButtonEl.classList.add('colab-df-spinner');\n",
              "      try {\n",
              "        const charts = await google.colab.kernel.invokeFunction(\n",
              "            'suggestCharts', [key], {});\n",
              "      } catch (error) {\n",
              "        console.error('Error during call to suggestCharts:', error);\n",
              "      }\n",
              "      quickchartButtonEl.classList.remove('colab-df-spinner');\n",
              "      quickchartButtonEl.classList.add('colab-df-quickchart-complete');\n",
              "    }\n",
              "    (() => {\n",
              "      let quickchartButtonEl =\n",
              "        document.querySelector('#df-6f5117bd-b676-4f61-9f3b-9222e4014fa0 button');\n",
              "      quickchartButtonEl.style.display =\n",
              "        google.colab.kernel.accessAllowed ? 'block' : 'none';\n",
              "    })();\n",
              "  </script>\n",
              "</div>\n",
              "\n",
              "    </div>\n",
              "  </div>\n"
            ],
            "application/vnd.google.colaboratory.intrinsic+json": {
              "type": "dataframe",
              "variable_name": "df",
              "summary": "{\n  \"name\": \"df\",\n  \"rows\": 87,\n  \"fields\": [\n    {\n      \"column\": \"sex\",\n      \"properties\": {\n        \"dtype\": \"category\",\n        \"num_unique_values\": 2,\n        \"samples\": [\n          \"Male\",\n          \"Female\"\n        ],\n        \"semantic_type\": \"\",\n        \"description\": \"\"\n      }\n    },\n    {\n      \"column\": \"diagnosis\",\n      \"properties\": {\n        \"dtype\": \"category\",\n        \"num_unique_values\": 4,\n        \"samples\": [\n          \"HG glioma\",\n          \"Other\"\n        ],\n        \"semantic_type\": \"\",\n        \"description\": \"\"\n      }\n    },\n    {\n      \"column\": \"loc\",\n      \"properties\": {\n        \"dtype\": \"category\",\n        \"num_unique_values\": 2,\n        \"samples\": [\n          \"Supratentorial\",\n          \"Infratentorial\"\n        ],\n        \"semantic_type\": \"\",\n        \"description\": \"\"\n      }\n    },\n    {\n      \"column\": \"ki\",\n      \"properties\": {\n        \"dtype\": \"number\",\n        \"std\": 10,\n        \"min\": 40,\n        \"max\": 100,\n        \"num_unique_values\": 6,\n        \"samples\": [\n          90,\n          70\n        ],\n        \"semantic_type\": \"\",\n        \"description\": \"\"\n      }\n    },\n    {\n      \"column\": \"gtv\",\n      \"properties\": {\n        \"dtype\": \"number\",\n        \"std\": 8.704251582769505,\n        \"min\": 0.01,\n        \"max\": 34.64,\n        \"num_unique_values\": 83,\n        \"samples\": [\n          2.56,\n          6.11\n        ],\n        \"semantic_type\": \"\",\n        \"description\": \"\"\n      }\n    },\n    {\n      \"column\": \"status\",\n      \"properties\": {\n        \"dtype\": \"number\",\n        \"std\": 0,\n        \"min\": 0,\n        \"max\": 1,\n        \"num_unique_values\": 2,\n        \"samples\": [\n          1,\n          0\n        ],\n        \"semantic_type\": \"\",\n        \"description\": \"\"\n      }\n    }\n  ]\n}"
            }
          },
          "metadata": {},
          "execution_count": 1311
        }
      ]
    },
    {
      "cell_type": "code",
      "source": [
        "un = df['sex'].unique()\n",
        "print(un)"
      ],
      "metadata": {
        "colab": {
          "base_uri": "https://localhost:8080/"
        },
        "id": "5hm2rvfN1C2s",
        "outputId": "cb500b6a-0de5-4b02-b809-6e115e048e55"
      },
      "execution_count": 1312,
      "outputs": [
        {
          "output_type": "stream",
          "name": "stdout",
          "text": [
            "['Female' 'Male']\n"
          ]
        }
      ]
    },
    {
      "cell_type": "code",
      "source": [
        "un = df['diagnosis'].unique()\n",
        "print(un)"
      ],
      "metadata": {
        "colab": {
          "base_uri": "https://localhost:8080/"
        },
        "id": "0q_4BI_n1Hvc",
        "outputId": "93e5041b-922c-44b6-f270-dbe144856018"
      },
      "execution_count": 1313,
      "outputs": [
        {
          "output_type": "stream",
          "name": "stdout",
          "text": [
            "['Meningioma' 'HG glioma' 'LG glioma' 'Other']\n"
          ]
        }
      ]
    },
    {
      "cell_type": "code",
      "source": [
        "un = df['loc'].unique()\n",
        "print(un)"
      ],
      "metadata": {
        "colab": {
          "base_uri": "https://localhost:8080/"
        },
        "id": "OmM5CK9-1fcY",
        "outputId": "892b2f5c-1083-4eee-b3cc-d1c5a8c7b4f9"
      },
      "execution_count": 1314,
      "outputs": [
        {
          "output_type": "stream",
          "name": "stdout",
          "text": [
            "['Infratentorial' 'Supratentorial']\n"
          ]
        }
      ]
    },
    {
      "cell_type": "code",
      "source": [
        "categorical = df.select_dtypes(include=['object']).columns\n",
        "numerical = df.select_dtypes(exclude=['object']).columns"
      ],
      "metadata": {
        "id": "5ZGeJXKv6qc7"
      },
      "execution_count": 1315,
      "outputs": []
    },
    {
      "cell_type": "code",
      "source": [
        "print(categorical)\n",
        "print(numerical)"
      ],
      "metadata": {
        "colab": {
          "base_uri": "https://localhost:8080/"
        },
        "id": "AOIxLKh-7q2y",
        "outputId": "dd775e42-2e09-4941-d49a-a0e35fd18152"
      },
      "execution_count": 1316,
      "outputs": [
        {
          "output_type": "stream",
          "name": "stdout",
          "text": [
            "Index(['sex', 'diagnosis', 'loc'], dtype='object')\n",
            "Index(['ki', 'gtv', 'status'], dtype='object')\n"
          ]
        }
      ]
    },
    {
      "cell_type": "code",
      "source": [
        "encoder = OneHotEncoder(drop='first', sparse_output=False)\n",
        "encoded_data = encoder.fit_transform(df[categorical])\n",
        "encoded_df = pd.DataFrame(encoded_data, columns=encoder.get_feature_names_out(categorical))\n",
        "encoded_df.index = df.index"
      ],
      "metadata": {
        "id": "oHZxIalN7vti"
      },
      "execution_count": 1317,
      "outputs": []
    },
    {
      "cell_type": "code",
      "source": [
        "df = df.drop(categorical, axis=1)\n",
        "df = pd.concat([df, encoded_df], axis=1)"
      ],
      "metadata": {
        "id": "2HKkAxhx7zRa"
      },
      "execution_count": 1318,
      "outputs": []
    },
    {
      "cell_type": "code",
      "source": [
        "X = df.drop(columns=['status'])\n",
        "y = df['status']"
      ],
      "metadata": {
        "id": "9AwpksWE7-YX"
      },
      "execution_count": 1319,
      "outputs": []
    },
    {
      "cell_type": "code",
      "source": [
        "print(X.shape)\n",
        "print(y.shape)"
      ],
      "metadata": {
        "colab": {
          "base_uri": "https://localhost:8080/"
        },
        "id": "D0IQ5oXW8B-M",
        "outputId": "39aa07f8-4f82-4c56-d569-22bece6d8b91"
      },
      "execution_count": 1320,
      "outputs": [
        {
          "output_type": "stream",
          "name": "stdout",
          "text": [
            "(87, 7)\n",
            "(87,)\n"
          ]
        }
      ]
    },
    {
      "cell_type": "code",
      "source": [
        "X.head()"
      ],
      "metadata": {
        "colab": {
          "base_uri": "https://localhost:8080/",
          "height": 206
        },
        "id": "HiC9yf5W8GaM",
        "outputId": "367fb315-0da6-40da-82f0-6cea06dcb25d"
      },
      "execution_count": 1321,
      "outputs": [
        {
          "output_type": "execute_result",
          "data": {
            "text/plain": [
              "   ki    gtv  sex_Male  diagnosis_LG glioma  diagnosis_Meningioma  \\\n",
              "0  90   6.11       0.0                  0.0                   1.0   \n",
              "1  90  19.35       1.0                  0.0                   0.0   \n",
              "2  70   7.95       0.0                  0.0                   1.0   \n",
              "3  80   7.61       0.0                  1.0                   0.0   \n",
              "4  90   5.06       1.0                  0.0                   0.0   \n",
              "\n",
              "   diagnosis_Other  loc_Supratentorial  \n",
              "0              0.0                 0.0  \n",
              "1              0.0                 1.0  \n",
              "2              0.0                 0.0  \n",
              "3              0.0                 1.0  \n",
              "4              0.0                 1.0  "
            ],
            "text/html": [
              "\n",
              "  <div id=\"df-bff6f561-28f7-46db-b863-a9c3d705bcd0\" class=\"colab-df-container\">\n",
              "    <div>\n",
              "<style scoped>\n",
              "    .dataframe tbody tr th:only-of-type {\n",
              "        vertical-align: middle;\n",
              "    }\n",
              "\n",
              "    .dataframe tbody tr th {\n",
              "        vertical-align: top;\n",
              "    }\n",
              "\n",
              "    .dataframe thead th {\n",
              "        text-align: right;\n",
              "    }\n",
              "</style>\n",
              "<table border=\"1\" class=\"dataframe\">\n",
              "  <thead>\n",
              "    <tr style=\"text-align: right;\">\n",
              "      <th></th>\n",
              "      <th>ki</th>\n",
              "      <th>gtv</th>\n",
              "      <th>sex_Male</th>\n",
              "      <th>diagnosis_LG glioma</th>\n",
              "      <th>diagnosis_Meningioma</th>\n",
              "      <th>diagnosis_Other</th>\n",
              "      <th>loc_Supratentorial</th>\n",
              "    </tr>\n",
              "  </thead>\n",
              "  <tbody>\n",
              "    <tr>\n",
              "      <th>0</th>\n",
              "      <td>90</td>\n",
              "      <td>6.11</td>\n",
              "      <td>0.0</td>\n",
              "      <td>0.0</td>\n",
              "      <td>1.0</td>\n",
              "      <td>0.0</td>\n",
              "      <td>0.0</td>\n",
              "    </tr>\n",
              "    <tr>\n",
              "      <th>1</th>\n",
              "      <td>90</td>\n",
              "      <td>19.35</td>\n",
              "      <td>1.0</td>\n",
              "      <td>0.0</td>\n",
              "      <td>0.0</td>\n",
              "      <td>0.0</td>\n",
              "      <td>1.0</td>\n",
              "    </tr>\n",
              "    <tr>\n",
              "      <th>2</th>\n",
              "      <td>70</td>\n",
              "      <td>7.95</td>\n",
              "      <td>0.0</td>\n",
              "      <td>0.0</td>\n",
              "      <td>1.0</td>\n",
              "      <td>0.0</td>\n",
              "      <td>0.0</td>\n",
              "    </tr>\n",
              "    <tr>\n",
              "      <th>3</th>\n",
              "      <td>80</td>\n",
              "      <td>7.61</td>\n",
              "      <td>0.0</td>\n",
              "      <td>1.0</td>\n",
              "      <td>0.0</td>\n",
              "      <td>0.0</td>\n",
              "      <td>1.0</td>\n",
              "    </tr>\n",
              "    <tr>\n",
              "      <th>4</th>\n",
              "      <td>90</td>\n",
              "      <td>5.06</td>\n",
              "      <td>1.0</td>\n",
              "      <td>0.0</td>\n",
              "      <td>0.0</td>\n",
              "      <td>0.0</td>\n",
              "      <td>1.0</td>\n",
              "    </tr>\n",
              "  </tbody>\n",
              "</table>\n",
              "</div>\n",
              "    <div class=\"colab-df-buttons\">\n",
              "\n",
              "  <div class=\"colab-df-container\">\n",
              "    <button class=\"colab-df-convert\" onclick=\"convertToInteractive('df-bff6f561-28f7-46db-b863-a9c3d705bcd0')\"\n",
              "            title=\"Convert this dataframe to an interactive table.\"\n",
              "            style=\"display:none;\">\n",
              "\n",
              "  <svg xmlns=\"http://www.w3.org/2000/svg\" height=\"24px\" viewBox=\"0 -960 960 960\">\n",
              "    <path d=\"M120-120v-720h720v720H120Zm60-500h600v-160H180v160Zm220 220h160v-160H400v160Zm0 220h160v-160H400v160ZM180-400h160v-160H180v160Zm440 0h160v-160H620v160ZM180-180h160v-160H180v160Zm440 0h160v-160H620v160Z\"/>\n",
              "  </svg>\n",
              "    </button>\n",
              "\n",
              "  <style>\n",
              "    .colab-df-container {\n",
              "      display:flex;\n",
              "      gap: 12px;\n",
              "    }\n",
              "\n",
              "    .colab-df-convert {\n",
              "      background-color: #E8F0FE;\n",
              "      border: none;\n",
              "      border-radius: 50%;\n",
              "      cursor: pointer;\n",
              "      display: none;\n",
              "      fill: #1967D2;\n",
              "      height: 32px;\n",
              "      padding: 0 0 0 0;\n",
              "      width: 32px;\n",
              "    }\n",
              "\n",
              "    .colab-df-convert:hover {\n",
              "      background-color: #E2EBFA;\n",
              "      box-shadow: 0px 1px 2px rgba(60, 64, 67, 0.3), 0px 1px 3px 1px rgba(60, 64, 67, 0.15);\n",
              "      fill: #174EA6;\n",
              "    }\n",
              "\n",
              "    .colab-df-buttons div {\n",
              "      margin-bottom: 4px;\n",
              "    }\n",
              "\n",
              "    [theme=dark] .colab-df-convert {\n",
              "      background-color: #3B4455;\n",
              "      fill: #D2E3FC;\n",
              "    }\n",
              "\n",
              "    [theme=dark] .colab-df-convert:hover {\n",
              "      background-color: #434B5C;\n",
              "      box-shadow: 0px 1px 3px 1px rgba(0, 0, 0, 0.15);\n",
              "      filter: drop-shadow(0px 1px 2px rgba(0, 0, 0, 0.3));\n",
              "      fill: #FFFFFF;\n",
              "    }\n",
              "  </style>\n",
              "\n",
              "    <script>\n",
              "      const buttonEl =\n",
              "        document.querySelector('#df-bff6f561-28f7-46db-b863-a9c3d705bcd0 button.colab-df-convert');\n",
              "      buttonEl.style.display =\n",
              "        google.colab.kernel.accessAllowed ? 'block' : 'none';\n",
              "\n",
              "      async function convertToInteractive(key) {\n",
              "        const element = document.querySelector('#df-bff6f561-28f7-46db-b863-a9c3d705bcd0');\n",
              "        const dataTable =\n",
              "          await google.colab.kernel.invokeFunction('convertToInteractive',\n",
              "                                                    [key], {});\n",
              "        if (!dataTable) return;\n",
              "\n",
              "        const docLinkHtml = 'Like what you see? Visit the ' +\n",
              "          '<a target=\"_blank\" href=https://colab.research.google.com/notebooks/data_table.ipynb>data table notebook</a>'\n",
              "          + ' to learn more about interactive tables.';\n",
              "        element.innerHTML = '';\n",
              "        dataTable['output_type'] = 'display_data';\n",
              "        await google.colab.output.renderOutput(dataTable, element);\n",
              "        const docLink = document.createElement('div');\n",
              "        docLink.innerHTML = docLinkHtml;\n",
              "        element.appendChild(docLink);\n",
              "      }\n",
              "    </script>\n",
              "  </div>\n",
              "\n",
              "\n",
              "<div id=\"df-19f6e4bc-d2ee-48b1-9d53-7f72a4b49f25\">\n",
              "  <button class=\"colab-df-quickchart\" onclick=\"quickchart('df-19f6e4bc-d2ee-48b1-9d53-7f72a4b49f25')\"\n",
              "            title=\"Suggest charts\"\n",
              "            style=\"display:none;\">\n",
              "\n",
              "<svg xmlns=\"http://www.w3.org/2000/svg\" height=\"24px\"viewBox=\"0 0 24 24\"\n",
              "     width=\"24px\">\n",
              "    <g>\n",
              "        <path d=\"M19 3H5c-1.1 0-2 .9-2 2v14c0 1.1.9 2 2 2h14c1.1 0 2-.9 2-2V5c0-1.1-.9-2-2-2zM9 17H7v-7h2v7zm4 0h-2V7h2v10zm4 0h-2v-4h2v4z\"/>\n",
              "    </g>\n",
              "</svg>\n",
              "  </button>\n",
              "\n",
              "<style>\n",
              "  .colab-df-quickchart {\n",
              "      --bg-color: #E8F0FE;\n",
              "      --fill-color: #1967D2;\n",
              "      --hover-bg-color: #E2EBFA;\n",
              "      --hover-fill-color: #174EA6;\n",
              "      --disabled-fill-color: #AAA;\n",
              "      --disabled-bg-color: #DDD;\n",
              "  }\n",
              "\n",
              "  [theme=dark] .colab-df-quickchart {\n",
              "      --bg-color: #3B4455;\n",
              "      --fill-color: #D2E3FC;\n",
              "      --hover-bg-color: #434B5C;\n",
              "      --hover-fill-color: #FFFFFF;\n",
              "      --disabled-bg-color: #3B4455;\n",
              "      --disabled-fill-color: #666;\n",
              "  }\n",
              "\n",
              "  .colab-df-quickchart {\n",
              "    background-color: var(--bg-color);\n",
              "    border: none;\n",
              "    border-radius: 50%;\n",
              "    cursor: pointer;\n",
              "    display: none;\n",
              "    fill: var(--fill-color);\n",
              "    height: 32px;\n",
              "    padding: 0;\n",
              "    width: 32px;\n",
              "  }\n",
              "\n",
              "  .colab-df-quickchart:hover {\n",
              "    background-color: var(--hover-bg-color);\n",
              "    box-shadow: 0 1px 2px rgba(60, 64, 67, 0.3), 0 1px 3px 1px rgba(60, 64, 67, 0.15);\n",
              "    fill: var(--button-hover-fill-color);\n",
              "  }\n",
              "\n",
              "  .colab-df-quickchart-complete:disabled,\n",
              "  .colab-df-quickchart-complete:disabled:hover {\n",
              "    background-color: var(--disabled-bg-color);\n",
              "    fill: var(--disabled-fill-color);\n",
              "    box-shadow: none;\n",
              "  }\n",
              "\n",
              "  .colab-df-spinner {\n",
              "    border: 2px solid var(--fill-color);\n",
              "    border-color: transparent;\n",
              "    border-bottom-color: var(--fill-color);\n",
              "    animation:\n",
              "      spin 1s steps(1) infinite;\n",
              "  }\n",
              "\n",
              "  @keyframes spin {\n",
              "    0% {\n",
              "      border-color: transparent;\n",
              "      border-bottom-color: var(--fill-color);\n",
              "      border-left-color: var(--fill-color);\n",
              "    }\n",
              "    20% {\n",
              "      border-color: transparent;\n",
              "      border-left-color: var(--fill-color);\n",
              "      border-top-color: var(--fill-color);\n",
              "    }\n",
              "    30% {\n",
              "      border-color: transparent;\n",
              "      border-left-color: var(--fill-color);\n",
              "      border-top-color: var(--fill-color);\n",
              "      border-right-color: var(--fill-color);\n",
              "    }\n",
              "    40% {\n",
              "      border-color: transparent;\n",
              "      border-right-color: var(--fill-color);\n",
              "      border-top-color: var(--fill-color);\n",
              "    }\n",
              "    60% {\n",
              "      border-color: transparent;\n",
              "      border-right-color: var(--fill-color);\n",
              "    }\n",
              "    80% {\n",
              "      border-color: transparent;\n",
              "      border-right-color: var(--fill-color);\n",
              "      border-bottom-color: var(--fill-color);\n",
              "    }\n",
              "    90% {\n",
              "      border-color: transparent;\n",
              "      border-bottom-color: var(--fill-color);\n",
              "    }\n",
              "  }\n",
              "</style>\n",
              "\n",
              "  <script>\n",
              "    async function quickchart(key) {\n",
              "      const quickchartButtonEl =\n",
              "        document.querySelector('#' + key + ' button');\n",
              "      quickchartButtonEl.disabled = true;  // To prevent multiple clicks.\n",
              "      quickchartButtonEl.classList.add('colab-df-spinner');\n",
              "      try {\n",
              "        const charts = await google.colab.kernel.invokeFunction(\n",
              "            'suggestCharts', [key], {});\n",
              "      } catch (error) {\n",
              "        console.error('Error during call to suggestCharts:', error);\n",
              "      }\n",
              "      quickchartButtonEl.classList.remove('colab-df-spinner');\n",
              "      quickchartButtonEl.classList.add('colab-df-quickchart-complete');\n",
              "    }\n",
              "    (() => {\n",
              "      let quickchartButtonEl =\n",
              "        document.querySelector('#df-19f6e4bc-d2ee-48b1-9d53-7f72a4b49f25 button');\n",
              "      quickchartButtonEl.style.display =\n",
              "        google.colab.kernel.accessAllowed ? 'block' : 'none';\n",
              "    })();\n",
              "  </script>\n",
              "</div>\n",
              "\n",
              "    </div>\n",
              "  </div>\n"
            ],
            "application/vnd.google.colaboratory.intrinsic+json": {
              "type": "dataframe",
              "variable_name": "X",
              "summary": "{\n  \"name\": \"X\",\n  \"rows\": 87,\n  \"fields\": [\n    {\n      \"column\": \"ki\",\n      \"properties\": {\n        \"dtype\": \"number\",\n        \"std\": 10,\n        \"min\": 40,\n        \"max\": 100,\n        \"num_unique_values\": 6,\n        \"samples\": [\n          90,\n          70,\n          40\n        ],\n        \"semantic_type\": \"\",\n        \"description\": \"\"\n      }\n    },\n    {\n      \"column\": \"gtv\",\n      \"properties\": {\n        \"dtype\": \"number\",\n        \"std\": 8.704251582769505,\n        \"min\": 0.01,\n        \"max\": 34.64,\n        \"num_unique_values\": 83,\n        \"samples\": [\n          2.56,\n          6.11,\n          2.13\n        ],\n        \"semantic_type\": \"\",\n        \"description\": \"\"\n      }\n    },\n    {\n      \"column\": \"sex_Male\",\n      \"properties\": {\n        \"dtype\": \"number\",\n        \"std\": 0.5025994976241309,\n        \"min\": 0.0,\n        \"max\": 1.0,\n        \"num_unique_values\": 2,\n        \"samples\": [\n          1.0,\n          0.0\n        ],\n        \"semantic_type\": \"\",\n        \"description\": \"\"\n      }\n    },\n    {\n      \"column\": \"diagnosis_LG glioma\",\n      \"properties\": {\n        \"dtype\": \"number\",\n        \"std\": 0.306308962377922,\n        \"min\": 0.0,\n        \"max\": 1.0,\n        \"num_unique_values\": 2,\n        \"samples\": [\n          1.0,\n          0.0\n        ],\n        \"semantic_type\": \"\",\n        \"description\": \"\"\n      }\n    },\n    {\n      \"column\": \"diagnosis_Meningioma\",\n      \"properties\": {\n        \"dtype\": \"number\",\n        \"std\": 0.502599497624131,\n        \"min\": 0.0,\n        \"max\": 1.0,\n        \"num_unique_values\": 2,\n        \"samples\": [\n          0.0,\n          1.0\n        ],\n        \"semantic_type\": \"\",\n        \"description\": \"\"\n      }\n    },\n    {\n      \"column\": \"diagnosis_Other\",\n      \"properties\": {\n        \"dtype\": \"number\",\n        \"std\": 0.36958692272718335,\n        \"min\": 0.0,\n        \"max\": 1.0,\n        \"num_unique_values\": 2,\n        \"samples\": [\n          1.0,\n          0.0\n        ],\n        \"semantic_type\": \"\",\n        \"description\": \"\"\n      }\n    },\n    {\n      \"column\": \"loc_Supratentorial\",\n      \"properties\": {\n        \"dtype\": \"number\",\n        \"std\": 0.41554915630982836,\n        \"min\": 0.0,\n        \"max\": 1.0,\n        \"num_unique_values\": 2,\n        \"samples\": [\n          1.0,\n          0.0\n        ],\n        \"semantic_type\": \"\",\n        \"description\": \"\"\n      }\n    }\n  ]\n}"
            }
          },
          "metadata": {},
          "execution_count": 1321
        }
      ]
    },
    {
      "cell_type": "code",
      "source": [
        "y.head()"
      ],
      "metadata": {
        "colab": {
          "base_uri": "https://localhost:8080/",
          "height": 241
        },
        "id": "T2lpWseI8QGG",
        "outputId": "265b1404-12ba-4e54-adbf-f2a70cea6e67"
      },
      "execution_count": 1322,
      "outputs": [
        {
          "output_type": "execute_result",
          "data": {
            "text/plain": [
              "0    0\n",
              "1    1\n",
              "2    0\n",
              "3    1\n",
              "4    1\n",
              "Name: status, dtype: int64"
            ],
            "text/html": [
              "<div>\n",
              "<style scoped>\n",
              "    .dataframe tbody tr th:only-of-type {\n",
              "        vertical-align: middle;\n",
              "    }\n",
              "\n",
              "    .dataframe tbody tr th {\n",
              "        vertical-align: top;\n",
              "    }\n",
              "\n",
              "    .dataframe thead th {\n",
              "        text-align: right;\n",
              "    }\n",
              "</style>\n",
              "<table border=\"1\" class=\"dataframe\">\n",
              "  <thead>\n",
              "    <tr style=\"text-align: right;\">\n",
              "      <th></th>\n",
              "      <th>status</th>\n",
              "    </tr>\n",
              "  </thead>\n",
              "  <tbody>\n",
              "    <tr>\n",
              "      <th>0</th>\n",
              "      <td>0</td>\n",
              "    </tr>\n",
              "    <tr>\n",
              "      <th>1</th>\n",
              "      <td>1</td>\n",
              "    </tr>\n",
              "    <tr>\n",
              "      <th>2</th>\n",
              "      <td>0</td>\n",
              "    </tr>\n",
              "    <tr>\n",
              "      <th>3</th>\n",
              "      <td>1</td>\n",
              "    </tr>\n",
              "    <tr>\n",
              "      <th>4</th>\n",
              "      <td>1</td>\n",
              "    </tr>\n",
              "  </tbody>\n",
              "</table>\n",
              "</div><br><label><b>dtype:</b> int64</label>"
            ]
          },
          "metadata": {},
          "execution_count": 1322
        }
      ]
    },
    {
      "cell_type": "code",
      "source": [
        "corr = df.corr()\n",
        "\n",
        "target = corr['status'].sort_values(ascending=False)\n",
        "\n",
        "print(\"Correlation of each feature with the target variable (status):\")\n",
        "print(target)"
      ],
      "metadata": {
        "colab": {
          "base_uri": "https://localhost:8080/"
        },
        "id": "m_b32zVm8YmH",
        "outputId": "37e91e28-b813-43cf-e343-37edfa8e13ff"
      },
      "execution_count": 1323,
      "outputs": [
        {
          "output_type": "stream",
          "name": "stdout",
          "text": [
            "Correlation of each feature with the target variable (status):\n",
            "status                  1.000000\n",
            "gtv                     0.232762\n",
            "loc_Supratentorial      0.206725\n",
            "sex_Male                0.145578\n",
            "diagnosis_LG glioma     0.029195\n",
            "diagnosis_Other        -0.040328\n",
            "ki                     -0.251298\n",
            "diagnosis_Meningioma   -0.370416\n",
            "Name: status, dtype: float64\n"
          ]
        }
      ]
    },
    {
      "cell_type": "code",
      "source": [
        "from sklearn.preprocessing import StandardScaler\n",
        "scaler = StandardScaler()\n",
        "X_scaled = scaler.fit_transform(X)"
      ],
      "metadata": {
        "id": "yO7Oaocb8c4Y"
      },
      "execution_count": 1324,
      "outputs": []
    },
    {
      "cell_type": "code",
      "source": [
        "X_train, X_temp, y_train, y_temp = train_test_split(X_scaled, y, test_size=0.3, random_state=42)\n",
        "X_val, X_test, y_val, y_test = train_test_split(X_temp, y_temp, test_size=0.5, random_state=42)"
      ],
      "metadata": {
        "id": "okWVFdSn8gR3"
      },
      "execution_count": 1325,
      "outputs": []
    },
    {
      "cell_type": "code",
      "source": [
        "print(X_train.shape)\n",
        "print(X_val.shape)\n",
        "print(X_test.shape)\n",
        "print(y_train.shape)\n",
        "print(y_val.shape)\n",
        "print(y_test.shape)"
      ],
      "metadata": {
        "colab": {
          "base_uri": "https://localhost:8080/"
        },
        "id": "2TnERG2q8kHY",
        "outputId": "2ac8a2f2-61ea-48d3-b2e4-26137d7a9703"
      },
      "execution_count": 1326,
      "outputs": [
        {
          "output_type": "stream",
          "name": "stdout",
          "text": [
            "(60, 7)\n",
            "(13, 7)\n",
            "(14, 7)\n",
            "(60,)\n",
            "(13,)\n",
            "(14,)\n"
          ]
        }
      ]
    },
    {
      "cell_type": "code",
      "source": [
        "def accuracy(y_true, y_pred):\n",
        "    return np.sum(y_true == y_pred) / len(y_true)\n",
        "\n",
        "def confusion_matrix_manual(y_true, y_pred):\n",
        "    tp = np.sum((y_true == 1) & (y_pred == 1))\n",
        "    tn = np.sum((y_true == 0) & (y_pred == 0))\n",
        "    fp = np.sum((y_true == 0) & (y_pred == 1))\n",
        "    fn = np.sum((y_true == 1) & (y_pred == 0))\n",
        "    return tp, tn, fp, fn\n",
        "\n",
        "def confusion_matrix(y_true, y_pred):\n",
        "    tp = np.sum((y_true == 1) & (y_pred == 1))\n",
        "    tn = np.sum((y_true == 0) & (y_pred == 0))\n",
        "    fp = np.sum((y_true == 0) & (y_pred == 1))\n",
        "    fn = np.sum((y_true == 1) & (y_pred == 0))\n",
        "    return np.array([[tn, fp], [fn, tp]])\n",
        "\n",
        "def precision_manual(y_true, y_pred, average=None):\n",
        "    tp, tn, fp, fn = confusion_matrix_manual(y_true, y_pred)\n",
        "    if average == \"weighted\":\n",
        "        total = len(y_true)\n",
        "        class_1_weight = np.sum(y_true == 1) / total\n",
        "        class_0_weight = np.sum(y_true == 0) / total\n",
        "        precision_class_1 = tp / (tp + fp) if tp + fp > 0 else 0\n",
        "        precision_class_0 = tn / (tn + fn) if tn + fn > 0 else 0\n",
        "        return class_1_weight * precision_class_1 + class_0_weight * precision_class_0\n",
        "    return tp / (tp + fp) if tp + fp > 0 else 0\n",
        "\n",
        "def recall_manual(y_true, y_pred, average=None):\n",
        "    tp, tn, fp, fn = confusion_matrix_manual(y_true, y_pred)\n",
        "    if average == \"weighted\":\n",
        "        total = len(y_true)\n",
        "        class_1_weight = np.sum(y_true == 1) / total\n",
        "        class_0_weight = np.sum(y_true == 0) / total\n",
        "        recall_class_1 = tp / (tp + fn) if tp + fn > 0 else 0\n",
        "        recall_class_0 = tn / (tn + fp) if tn + fp > 0 else 0\n",
        "        return class_1_weight * recall_class_1 + class_0_weight * recall_class_0\n",
        "    return tp / (tp + fn) if tp + fn > 0 else 0\n",
        "\n",
        "def f1_score_manual(y_true, y_pred, average=None):\n",
        "    tp, tn, fp, fn = confusion_matrix_manual(y_true, y_pred)\n",
        "\n",
        "    if average == \"weighted\":\n",
        "        total = len(y_true)\n",
        "        class_1_weight = np.sum(y_true == 1) / total\n",
        "        class_0_weight = np.sum(y_true == 0) / total\n",
        "\n",
        "        precision_class_1 = tp / (tp + fp) if tp + fp > 0 else 0\n",
        "        recall_class_1 = tp / (tp + fn) if tp + fn > 0 else 0\n",
        "        precision_class_0 = tn / (tn + fn) if tn + fn > 0 else 0\n",
        "        recall_class_0 = tn / (tn + fp) if tn + fp > 0 else 0\n",
        "\n",
        "        f1_class_1 = (\n",
        "            2 * (precision_class_1 * recall_class_1) / (precision_class_1 + recall_class_1)\n",
        "            if precision_class_1 + recall_class_1 > 0\n",
        "            else 0\n",
        "        )\n",
        "        f1_class_0 = (\n",
        "            2 * (precision_class_0 * recall_class_0) / (precision_class_0 + recall_class_0)\n",
        "            if precision_class_0 + recall_class_0 > 0\n",
        "            else 0\n",
        "        )\n",
        "\n",
        "        return class_1_weight * f1_class_1 + class_0_weight * f1_class_0\n",
        "\n",
        "    precision = precision_manual(y_true, y_pred)\n",
        "    recall = recall_manual(y_true, y_pred)\n",
        "    return 2 * (precision * recall) / (precision + recall) if precision + recall > 0 else 0\n",
        "\n",
        "\n",
        "def precision_recall_curve_manual(y_true, y_prob):\n",
        "    precision, recall, thresholds = precision_recall_curve(y_true, y_prob)\n",
        "    return precision, recall, thresholds\n",
        "\n",
        "def plot_precision_recall_curve(precision, recall, label):\n",
        "    plt.plot(recall, precision, label=label)\n",
        "    plt.xlabel('Recall')\n",
        "    plt.ylabel('Precision')\n",
        "    plt.title('Precision-Recall Curve')\n",
        "    plt.legend()\n",
        "    plt.show()\n"
      ],
      "metadata": {
        "id": "5TL_WlMfLoB9"
      },
      "execution_count": 1327,
      "outputs": []
    },
    {
      "cell_type": "markdown",
      "source": [
        "## ZeroR Classifier\n"
      ],
      "metadata": {
        "id": "ppYID3-_-EIK"
      }
    },
    {
      "cell_type": "code",
      "source": [],
      "metadata": {
        "id": "aODyGHv6ppzq"
      },
      "execution_count": 1327,
      "outputs": []
    },
    {
      "cell_type": "code",
      "source": [
        "majority_class = y_train.mode()[0]\n",
        "print(f\"Majority class (ZeroR prediction): {majority_class}\")"
      ],
      "metadata": {
        "colab": {
          "base_uri": "https://localhost:8080/"
        },
        "id": "6gfeol7Ss1Vy",
        "outputId": "7d43e95c-151c-4dc2-df83-ff62df8cc322"
      },
      "execution_count": 1328,
      "outputs": [
        {
          "output_type": "stream",
          "name": "stdout",
          "text": [
            "Majority class (ZeroR prediction): 0\n"
          ]
        }
      ]
    },
    {
      "cell_type": "code",
      "source": [
        "y_val_pred = np.full_like(y_val, majority_class)\n",
        "y_test_pred = np.full_like(y_test, majority_class)"
      ],
      "metadata": {
        "id": "hsa3M4Z4FBNC"
      },
      "execution_count": 1329,
      "outputs": []
    },
    {
      "cell_type": "code",
      "source": [
        "accuracy_val_custom = accuracy(y_val, y_val_pred)\n",
        "precision_val_custom = precision_manual(y_val, y_val_pred)\n",
        "recall_val_custom = recall_manual(y_val, y_val_pred)\n",
        "f1_val_custom = f1_score_manual(y_val, y_val_pred)\n",
        "\n",
        "accuracy_test_custom = accuracy(y_test, y_test_pred)\n",
        "precision_test_custom = precision_manual(y_test, y_test_pred)\n",
        "recall_test_custom = recall_manual(y_test, y_test_pred)\n",
        "f1_test_custom = f1_score_manual(y_test, y_test_pred)\n"
      ],
      "metadata": {
        "id": "FCjD-tL-rSuj"
      },
      "execution_count": 1330,
      "outputs": []
    },
    {
      "cell_type": "code",
      "source": [
        "def custom_auc(precision, recall):\n",
        "    auc_value = np.trapz(precision, recall)\n",
        "    return auc_value\n",
        "\n",
        "\n",
        "y_test_prob = np.full_like(y_test, majority_class, dtype=float)\n",
        "y_test_prob = np.where(y_test == majority_class, 1.0, 0.0)\n",
        "\n",
        "precision_vals, recall_vals, thresholds = precision_recall_curve(y_test, y_test_prob)\n",
        "pr_auc = custom_auc(recall_vals, precision_vals)\n"
      ],
      "metadata": {
        "id": "TiaF9LyWrWQH"
      },
      "execution_count": 1331,
      "outputs": []
    },
    {
      "cell_type": "code",
      "source": [
        "print(\"\\nValidation Set Metrics (Custom):\")\n",
        "print(f\"Accuracy: {accuracy_val_custom}\")\n",
        "print(f\"Precision: {precision_val_custom}\")\n",
        "print(f\"Recall: {recall_val_custom}\")\n",
        "print(f\"F1-Score: {f1_val_custom}\")\n",
        "\n",
        "print(\"\\nTest Set Metrics (Custom):\")\n",
        "print(f\"Accuracy: {accuracy_test_custom}\")\n",
        "print(f\"Precision: {precision_test_custom}\")\n",
        "print(f\"Recall: {recall_test_custom}\")\n",
        "print(f\"F1-Score: {f1_test_custom}\")\n",
        "print(f\"Precision-Recall AUC: {pr_auc}\")\n"
      ],
      "metadata": {
        "colab": {
          "base_uri": "https://localhost:8080/"
        },
        "id": "brwoSgk_rbDK",
        "outputId": "e2588a7f-2400-4fa6-c06c-0c19fdec38df"
      },
      "execution_count": 1332,
      "outputs": [
        {
          "output_type": "stream",
          "name": "stdout",
          "text": [
            "\n",
            "Validation Set Metrics (Custom):\n",
            "Accuracy: 0.6923076923076923\n",
            "Precision: 0\n",
            "Recall: 0.0\n",
            "F1-Score: 0\n",
            "\n",
            "Test Set Metrics (Custom):\n",
            "Accuracy: 0.6428571428571429\n",
            "Precision: 0\n",
            "Recall: 0.0\n",
            "F1-Score: 0\n",
            "Precision-Recall AUC: -0.17857142857142858\n"
          ]
        }
      ]
    },
    {
      "cell_type": "code",
      "source": [
        "tp_val, tn_val, fp_val, fn_val = confusion_matrix_manual(y_val, y_val_pred)\n",
        "tp_test, tn_test, fp_test, fn_test = confusion_matrix_manual(y_test, y_test_pred)\n",
        "\n",
        "print(\"\\nValidation Set Confusion Matrix (Custom):\")\n",
        "print(f\"TP: {tp_val}, TN: {tn_val}, FP: {fp_val}, FN: {fn_val}\")\n",
        "\n",
        "print(\"\\nTest Set Confusion Matrix (Custom):\")\n",
        "print(f\"TP: {tp_test}, TN: {tn_test}, FP: {fp_test}, FN: {fn_test}\")\n"
      ],
      "metadata": {
        "colab": {
          "base_uri": "https://localhost:8080/"
        },
        "id": "JWePoJZ_ryBP",
        "outputId": "b36be81c-9aa7-4d43-970f-1649fd3207d2"
      },
      "execution_count": 1333,
      "outputs": [
        {
          "output_type": "stream",
          "name": "stdout",
          "text": [
            "\n",
            "Validation Set Confusion Matrix (Custom):\n",
            "TP: 0, TN: 9, FP: 0, FN: 4\n",
            "\n",
            "Test Set Confusion Matrix (Custom):\n",
            "TP: 0, TN: 9, FP: 0, FN: 5\n"
          ]
        }
      ]
    },
    {
      "cell_type": "code",
      "source": [
        "conf_matrix = confusion_matrix(y_test, y_test_pred)\n",
        "print(\"Confusion Matrix:\")\n",
        "print(conf_matrix)"
      ],
      "metadata": {
        "colab": {
          "base_uri": "https://localhost:8080/"
        },
        "id": "9VMzAXdEfBbL",
        "outputId": "6ae1850b-22b2-4765-f617-962b6381ea30"
      },
      "execution_count": 1334,
      "outputs": [
        {
          "output_type": "stream",
          "name": "stdout",
          "text": [
            "Confusion Matrix:\n",
            "[[9 0]\n",
            " [5 0]]\n"
          ]
        }
      ]
    },
    {
      "cell_type": "code",
      "source": [
        "plt.figure(figsize=(8, 6))\n",
        "sns.heatmap(conf_matrix, annot=True, fmt=\"d\", cmap=\"Blues\", xticklabels=[1, 2, 3], yticklabels=[1, 2, 3])\n",
        "plt.title(\"Confusion Matrix\")\n",
        "plt.xlabel(\"Predicted\")\n",
        "plt.ylabel(\"Actual\")\n",
        "plt.show()"
      ],
      "metadata": {
        "colab": {
          "base_uri": "https://localhost:8080/",
          "height": 0
        },
        "id": "wAbEFLXTe1lY",
        "outputId": "c91e00a9-962f-42c2-cd74-80b360595fac"
      },
      "execution_count": 1335,
      "outputs": [
        {
          "output_type": "display_data",
          "data": {
            "text/plain": [
              "<Figure size 800x600 with 2 Axes>"
            ],
            "image/png": "[encoded data removed]"
          },
          "metadata": {}
        }
      ]
    },
    {
      "cell_type": "code",
      "source": [
        "plt.figure(figsize=(8, 6))\n",
        "plt.plot(recall_vals, precision_vals, label=f\"ZeroR (AUC = {pr_auc:.2f})\", color=\"blue\")\n",
        "plt.xlabel(\"Recall\")\n",
        "plt.ylabel(\"Precision\")\n",
        "plt.title(\"Precision-Recall Curve for ZeroR Classifier\")\n",
        "plt.legend(loc=\"best\")\n",
        "plt.grid()\n",
        "plt.show()\n"
      ],
      "metadata": {
        "colab": {
          "base_uri": "https://localhost:8080/",
          "height": 0
        },
        "id": "OrPKmB0nrcRW",
        "outputId": "8e1c06f5-1121-4178-d803-6cf717fa1690"
      },
      "execution_count": 1336,
      "outputs": [
        {
          "output_type": "display_data",
          "data": {
            "text/plain": [
              "<Figure size 800x600 with 1 Axes>"
            ],
            "image/png": "[encoded data removed]"
          },
          "metadata": {}
        }
      ]
    },
    {
      "cell_type": "markdown",
      "source": [
        "## OneR Classifier"
      ],
      "metadata": {
        "id": "kv6MFVqlGSt8"
      }
    },
    {
      "cell_type": "code",
      "source": [
        "def oneR_classifier(X_train, y_train):\n",
        "    best_accuracy = 0\n",
        "    best_feature = None\n",
        "    best_threshold = None\n",
        "\n",
        "    for feature_idx in range(X_train.shape[1]):\n",
        "        feature_values = X_train[:, feature_idx]\n",
        "        thresholds = np.unique(feature_values)\n",
        "\n",
        "        for threshold in thresholds:\n",
        "            predicted = (feature_values >= threshold).astype(int)\n",
        "            accuracy = np.mean(predicted == y_train)\n",
        "\n",
        "            if accuracy > best_accuracy:\n",
        "                best_accuracy = accuracy\n",
        "                best_feature = feature_idx\n",
        "                best_threshold = threshold\n",
        "\n",
        "    best_feature_values = X_train[:, best_feature]\n",
        "    predictions = (best_feature_values >= best_threshold).astype(int)\n",
        "\n",
        "    return predictions, best_feature, best_threshold"
      ],
      "metadata": {
        "id": "crwYqBXfNoIX"
      },
      "execution_count": 1337,
      "outputs": []
    },
    {
      "cell_type": "code",
      "source": [
        "y_train_pred, best_feature, best_threshold = oneR_classifier(X_train, y_train)"
      ],
      "metadata": {
        "id": "ghgxJFC4NqRM"
      },
      "execution_count": 1338,
      "outputs": []
    },
    {
      "cell_type": "code",
      "source": [
        "best_feature_values_val = X_val[:, best_feature]"
      ],
      "metadata": {
        "id": "xykbOr56N46y"
      },
      "execution_count": 1339,
      "outputs": []
    },
    {
      "cell_type": "code",
      "source": [
        "y_val_pred = (best_feature_values_val >= best_threshold).astype(int)"
      ],
      "metadata": {
        "id": "hShBzVq6N615"
      },
      "execution_count": 1340,
      "outputs": []
    },
    {
      "cell_type": "code",
      "source": [
        "accuracy_val = accuracy(y_val, y_val_pred)\n",
        "conf_matrix_val = confusion_matrix_manual(y_val, y_val_pred)\n",
        "precision_val = precision_manual(y_val, y_val_pred)\n",
        "recall_val = recall_manual(y_val, y_val_pred)\n",
        "f1_val = f1_score_manual(y_val, y_val_pred)\n",
        "\n",
        "print(\"\\nValidation Set Metrics:\")\n",
        "print(f\"Accuracy: {accuracy_val}\")\n",
        "print(f\"Confusion Matrix (TP, TN, FP, FN): {conf_matrix_val}\")\n",
        "print(f\"Precision: {precision_val}\")\n",
        "print(f\"Recall: {recall_val}\")\n",
        "print(f\"F1-Score: {f1_val}\")"
      ],
      "metadata": {
        "colab": {
          "base_uri": "https://localhost:8080/"
        },
        "id": "GG_nHA3bNth4",
        "outputId": "52d9930a-e28c-4ef5-a905-d81754a79c61"
      },
      "execution_count": 1341,
      "outputs": [
        {
          "output_type": "stream",
          "name": "stdout",
          "text": [
            "\n",
            "Validation Set Metrics:\n",
            "Accuracy: 0.6923076923076923\n",
            "Confusion Matrix (TP, TN, FP, FN): (1, 8, 1, 3)\n",
            "Precision: 0.5\n",
            "Recall: 0.25\n",
            "F1-Score: 0.3333333333333333\n"
          ]
        }
      ]
    },
    {
      "cell_type": "code",
      "source": [
        "y_val_prob = y_val_pred\n",
        "precision_vals, recall_vals, _ = precision_recall_curve_manual(y_val, y_val_prob)\n",
        "plot_precision_recall_curve(precision_vals, recall_vals, label=\"OneR Classifier (Validation)\")"
      ],
      "metadata": {
        "colab": {
          "base_uri": "https://localhost:8080/",
          "height": 0
        },
        "id": "IDbBPAh3N1YM",
        "outputId": "8f30034b-cb6b-420f-f749-062ff103702c"
      },
      "execution_count": 1342,
      "outputs": [
        {
          "output_type": "display_data",
          "data": {
            "text/plain": [
              "<Figure size 640x480 with 1 Axes>"
            ],
            "image/png": "[encoded data removed]"
          },
          "metadata": {}
        }
      ]
    },
    {
      "cell_type": "code",
      "source": [
        "best_feature_values_test = X_test[:, best_feature]\n",
        "y_test_pred = (best_feature_values_test >= best_threshold).astype(int)\n",
        "\n",
        "accuracy_test = accuracy(y_test, y_test_pred)\n",
        "conf_matrix_test = confusion_matrix_manual(y_test, y_test_pred)\n",
        "precision_test = precision_manual(y_test, y_test_pred)\n",
        "recall_test = recall_manual(y_test, y_test_pred)\n",
        "f1_test = f1_score_manual(y_test, y_test_pred)\n",
        "\n",
        "print(\"\\nTest Set Metrics:\")\n",
        "print(f\"Accuracy: {accuracy_test}\")\n",
        "print(f\"Confusion Matrix (TP, TN, FP, FN): {conf_matrix_test}\")\n",
        "print(f\"Precision: {precision_test}\")\n",
        "print(f\"Recall: {recall_test}\")\n",
        "print(f\"F1-Score: {f1_test}\")"
      ],
      "metadata": {
        "colab": {
          "base_uri": "https://localhost:8080/"
        },
        "id": "27ImNSGNODP-",
        "outputId": "0fd505a0-64c0-4fd7-ed73-1fc9d80de415"
      },
      "execution_count": 1343,
      "outputs": [
        {
          "output_type": "stream",
          "name": "stdout",
          "text": [
            "\n",
            "Test Set Metrics:\n",
            "Accuracy: 0.7857142857142857\n",
            "Confusion Matrix (TP, TN, FP, FN): (2, 9, 0, 3)\n",
            "Precision: 1.0\n",
            "Recall: 0.4\n",
            "F1-Score: 0.5714285714285715\n"
          ]
        }
      ]
    },
    {
      "cell_type": "code",
      "source": [
        "conf_matrix = confusion_matrix(y_test, y_test_pred)\n",
        "print(\"Confusion Matrix:\")\n",
        "print(conf_matrix)"
      ],
      "metadata": {
        "colab": {
          "base_uri": "https://localhost:8080/"
        },
        "id": "D9K8QlmPh7Ca",
        "outputId": "e012bcdc-9d93-4ea7-8daa-7ffcc0eabe4d"
      },
      "execution_count": 1344,
      "outputs": [
        {
          "output_type": "stream",
          "name": "stdout",
          "text": [
            "Confusion Matrix:\n",
            "[[9 0]\n",
            " [3 2]]\n"
          ]
        }
      ]
    },
    {
      "cell_type": "code",
      "source": [
        "plt.figure(figsize=(8, 6))\n",
        "sns.heatmap(conf_matrix, annot=True, fmt=\"d\", cmap=\"Blues\", xticklabels=[1, 2, 3], yticklabels=[1, 2, 3])\n",
        "plt.title(\"Confusion Matrix\")\n",
        "plt.xlabel(\"Predicted\")\n",
        "plt.ylabel(\"Actual\")\n",
        "plt.show()"
      ],
      "metadata": {
        "colab": {
          "base_uri": "https://localhost:8080/",
          "height": 0
        },
        "id": "B2Yi8tc0h68D",
        "outputId": "f7be9637-983c-4c98-9bc1-f17ed1ac3b80"
      },
      "execution_count": 1345,
      "outputs": [
        {
          "output_type": "display_data",
          "data": {
            "text/plain": [
              "<Figure size 800x600 with 2 Axes>"
            ],
            "image/png": "[encoded data removed]"
          },
          "metadata": {}
        }
      ]
    },
    {
      "cell_type": "code",
      "source": [
        "y_test_prob = y_test_pred\n",
        "precision_vals, recall_test, _ = precision_recall_curve_manual(y_test, y_test_prob)\n",
        "plot_precision_recall_curve(precision_vals, recall_test, label=\"OneR Classifier (Test)\")"
      ],
      "metadata": {
        "colab": {
          "base_uri": "https://localhost:8080/",
          "height": 0
        },
        "id": "HEasXV5QGb-f",
        "outputId": "e6ad82d3-0998-4f57-a6c1-ec3894dc0061"
      },
      "execution_count": 1346,
      "outputs": [
        {
          "output_type": "display_data",
          "data": {
            "text/plain": [
              "<Figure size 640x480 with 1 Axes>"
            ],
            "image/png": "[encoded data removed]"
          },
          "metadata": {}
        }
      ]
    },
    {
      "cell_type": "code",
      "source": [],
      "metadata": {
        "id": "QTWUG1E2Gb2o"
      },
      "execution_count": 1346,
      "outputs": []
    },
    {
      "cell_type": "markdown",
      "source": [
        "## K-Nearest-Neighbor Classifiers\n"
      ],
      "metadata": {
        "id": "ONw49CTOkOGR"
      }
    },
    {
      "cell_type": "code",
      "source": [
        "from sklearn.neighbors import KNeighborsClassifier\n",
        "knn = KNeighborsClassifier(n_neighbors=3)"
      ],
      "metadata": {
        "id": "j4GsIyo0l37s"
      },
      "execution_count": 1347,
      "outputs": []
    },
    {
      "cell_type": "code",
      "source": [
        "knn.fit(X_train, y_train)\n",
        "y_val_pred = knn.predict(X_val)"
      ],
      "metadata": {
        "id": "TZtcYh3FFAwY"
      },
      "execution_count": 1348,
      "outputs": []
    },
    {
      "cell_type": "code",
      "source": [
        "accuracy_val = accuracy(y_val, y_val_pred)\n",
        "precision_val = precision_manual(y_val, y_val_pred, average='weighted')\n",
        "recall_val = recall_manual(y_val, y_val_pred, average='weighted')\n",
        "f1_val = f1_score_manual(y_val, y_val_pred, average='weighted')"
      ],
      "metadata": {
        "id": "F19Mt3AyFAjQ"
      },
      "execution_count": 1349,
      "outputs": []
    },
    {
      "cell_type": "code",
      "source": [
        "print(f\"Validation Accuracy: {accuracy_val}\")\n",
        "print(f\"Validation Precision: {precision_val}\")\n",
        "print(f\"Validation Recall: {recall_val}\")\n",
        "print(f\"Validation F1 Score: {f1_val}\")"
      ],
      "metadata": {
        "id": "25VlNDNRFAMo",
        "colab": {
          "base_uri": "https://localhost:8080/"
        },
        "outputId": "105a3198-bd2f-45a7-ca2b-7cb2dd821a64"
      },
      "execution_count": 1350,
      "outputs": [
        {
          "output_type": "stream",
          "name": "stdout",
          "text": [
            "Validation Accuracy: 0.6923076923076923\n",
            "Validation Precision: 0.6923076923076923\n",
            "Validation Recall: 0.6923076923076923\n",
            "Validation F1 Score: 0.6923076923076923\n"
          ]
        }
      ]
    },
    {
      "cell_type": "code",
      "source": [
        "y_test_pred = knn.predict(X_test)\n",
        "accuracy_test = accuracy(y_test, y_test_pred)\n",
        "precision_test = precision_manual(y_test, y_test_pred, average='weighted')\n",
        "recall_test = recall_manual(y_test, y_test_pred, average='weighted')\n",
        "f1_test = f1_score_manual(y_test, y_test_pred, average='weighted')\n"
      ],
      "metadata": {
        "id": "OOPDwHZ0mv5a"
      },
      "execution_count": 1351,
      "outputs": []
    },
    {
      "cell_type": "code",
      "source": [
        "print(f\"Test Accuracy: {accuracy_test}\")\n",
        "print(f\"Test Precision: {precision_test}\")\n",
        "print(f\"Test Recall: {recall_test}\")\n",
        "print(f\"Test F1 Score: {f1_test}\")"
      ],
      "metadata": {
        "colab": {
          "base_uri": "https://localhost:8080/"
        },
        "id": "KKzQU-m1mvre",
        "outputId": "0d1952da-143a-4e85-ade2-0a33a93b0ef1"
      },
      "execution_count": 1352,
      "outputs": [
        {
          "output_type": "stream",
          "name": "stdout",
          "text": [
            "Test Accuracy: 0.9285714285714286\n",
            "Test Precision: 0.9404761904761905\n",
            "Test Recall: 0.9285714285714286\n",
            "Test F1 Score: 0.9297173414820474\n"
          ]
        }
      ]
    },
    {
      "cell_type": "code",
      "source": [
        "conf_matrix = confusion_matrix(y_test, y_test_pred)\n",
        "print(\"Confusion Matrix:\")\n",
        "print(conf_matrix)"
      ],
      "metadata": {
        "colab": {
          "base_uri": "https://localhost:8080/"
        },
        "id": "TXGPIVsKoBhO",
        "outputId": "9154d3c4-2c9e-4dfa-e6bd-f1c94a60a034"
      },
      "execution_count": 1353,
      "outputs": [
        {
          "output_type": "stream",
          "name": "stdout",
          "text": [
            "Confusion Matrix:\n",
            "[[8 1]\n",
            " [0 5]]\n"
          ]
        }
      ]
    },
    {
      "cell_type": "code",
      "source": [
        "plt.figure(figsize=(8, 6))\n",
        "sns.heatmap(conf_matrix, annot=True, fmt=\"d\", cmap=\"Blues\", xticklabels=[1, 2, 3], yticklabels=[1, 2, 3])\n",
        "plt.title(\"Confusion Matrix\")\n",
        "plt.xlabel(\"Predicted\")\n",
        "plt.ylabel(\"Actual\")\n",
        "plt.show()"
      ],
      "metadata": {
        "colab": {
          "base_uri": "https://localhost:8080/",
          "height": 564
        },
        "id": "SU69Simmmvdb",
        "outputId": "738e7a5c-80b7-48dd-83b1-2eefbb9507f8"
      },
      "execution_count": 1354,
      "outputs": [
        {
          "output_type": "display_data",
          "data": {
            "text/plain": [
              "<Figure size 800x600 with 2 Axes>"
            ],
            "image/png": "[encoded data removed]"
          },
          "metadata": {}
        }
      ]
    },
    {
      "cell_type": "code",
      "source": [
        "from sklearn.metrics import roc_curve, auc"
      ],
      "metadata": {
        "id": "d81FAW0DoEfO"
      },
      "execution_count": 1355,
      "outputs": []
    },
    {
      "cell_type": "code",
      "source": [
        "fpr, tpr, thresholds = roc_curve(y_test, knn.predict_proba(X_test)[:, 1], pos_label=1)\n",
        "roc_auc = auc(fpr, tpr)\n",
        "\n",
        "plt.figure(figsize=(8, 6))\n",
        "plt.plot(fpr, tpr, color='blue', lw=2, label=f\"ROC curve (area = {roc_auc:.2f})\")\n",
        "plt.plot([0, 1], [0, 1], color='gray', lw=2, linestyle='--')\n",
        "plt.xlabel('False Positive Rate')\n",
        "plt.ylabel('True Positive Rate')\n",
        "plt.title('Receiver Operating Characteristic (ROC) Curve')\n",
        "plt.legend(loc='lower right')\n",
        "plt.show()\n"
      ],
      "metadata": {
        "colab": {
          "base_uri": "https://localhost:8080/",
          "height": 564
        },
        "id": "BVjloOz5mvNq",
        "outputId": "eac0b12e-5aa0-4578-b0c1-a84bd8679179"
      },
      "execution_count": 1356,
      "outputs": [
        {
          "output_type": "display_data",
          "data": {
            "text/plain": [
              "<Figure size 800x600 with 1 Axes>"
            ],
            "image/png": "[encoded data removed]"
          },
          "metadata": {}
        }
      ]
    },
    {
      "cell_type": "code",
      "source": [
        "param_grid = {\n",
        "    'n_neighbors': [3, 5, 7, 9, 11],\n",
        "    'weights': ['uniform', 'distance'],\n",
        "    'metric': ['euclidean', 'manhattan']\n",
        "}"
      ],
      "metadata": {
        "id": "coALXb-1njqZ"
      },
      "execution_count": 1357,
      "outputs": []
    },
    {
      "cell_type": "code",
      "source": [
        "grid_search = GridSearchCV(KNeighborsClassifier(), param_grid, cv=5, scoring='accuracy')\n",
        "grid_search.fit(X_train, y_train)\n",
        "\n",
        "print(\"Best Parameters from Grid Search:\")\n",
        "print(grid_search.best_params_)\n",
        "print(f\"Best Accuracy from Grid Search: {grid_search.best_score_}\")\n",
        "\n",
        "best_knn = grid_search.best_estimator_\n",
        "\n",
        "y_test_pred_best = best_knn.predict(X_test)\n",
        "\n",
        "accuracy_best = accuracy(y_test, y_test_pred_best)\n",
        "precision_best = precision_manual(y_test, y_test_pred_best, average='weighted')\n",
        "recall_best = recall_manual(y_test, y_test_pred_best, average='weighted')\n",
        "f1_best = f1_score_manual(y_test, y_test_pred_best, average='weighted')"
      ],
      "metadata": {
        "colab": {
          "base_uri": "https://localhost:8080/"
        },
        "id": "WMAHScjBnjnY",
        "outputId": "d53e841c-399e-455e-e962-d80b911282c0"
      },
      "execution_count": 1358,
      "outputs": [
        {
          "output_type": "stream",
          "name": "stdout",
          "text": [
            "Best Parameters from Grid Search:\n",
            "{'metric': 'euclidean', 'n_neighbors': 3, 'weights': 'uniform'}\n",
            "Best Accuracy from Grid Search: 0.6666666666666666\n"
          ]
        }
      ]
    },
    {
      "cell_type": "code",
      "source": [
        "\n",
        "print(f\"Test Accuracy (Best K-NN): {accuracy_best}\")\n",
        "print(f\"Test Precision (Best K-NN): {precision_best}\")\n",
        "print(f\"Test Recall (Best K-NN): {recall_best}\")\n",
        "print(f\"Test F1 Score (Best K-NN): {f1_best}\")"
      ],
      "metadata": {
        "colab": {
          "base_uri": "https://localhost:8080/"
        },
        "id": "SOLp5VYGnjkg",
        "outputId": "04830dfb-18a7-46ea-e8bc-dba6c10185cc"
      },
      "execution_count": 1359,
      "outputs": [
        {
          "output_type": "stream",
          "name": "stdout",
          "text": [
            "Test Accuracy (Best K-NN): 0.9285714285714286\n",
            "Test Precision (Best K-NN): 0.9404761904761905\n",
            "Test Recall (Best K-NN): 0.9285714285714286\n",
            "Test F1 Score (Best K-NN): 0.9297173414820474\n"
          ]
        }
      ]
    },
    {
      "cell_type": "code",
      "source": [
        "k_values = [3, 5, 7, 9, 11]\n",
        "accuracies = []\n",
        "\n",
        "for k in k_values:\n",
        "    knn = KNeighborsClassifier(n_neighbors=k)\n",
        "    knn.fit(X_train, y_train)\n",
        "    y_pred = knn.predict(X_test)\n",
        "    accuracies.append(accuracy(y_test, y_pred))\n",
        "\n",
        "plt.figure(figsize=(8, 6))\n",
        "plt.plot(k_values, accuracies, marker='o', color='green')\n",
        "plt.title('Accuracy vs. Number of Neighbors (K)')\n",
        "plt.xlabel('Number of Neighbors (K)')\n",
        "plt.ylabel('Accuracy')\n",
        "plt.grid(True)\n",
        "plt.show()\n"
      ],
      "metadata": {
        "id": "3hyIruLfnjhV",
        "colab": {
          "base_uri": "https://localhost:8080/",
          "height": 564
        },
        "outputId": "2c69b679-d9c9-4f41-c7e5-ed606b761ddb"
      },
      "execution_count": 1360,
      "outputs": [
        {
          "output_type": "display_data",
          "data": {
            "text/plain": [
              "<Figure size 800x600 with 1 Axes>"
            ],
            "image/png": "[encoded data removed]"
          },
          "metadata": {}
        }
      ]
    },
    {
      "cell_type": "code",
      "source": [
        "k_values = [3, 5, 7, 9, 11]\n",
        "accuracies = []\n",
        "\n",
        "for k in k_values:\n",
        "    knn = KNeighborsClassifier(n_neighbors=k)\n",
        "    knn.fit(X_train, y_train)\n",
        "    y_val_pred = knn.predict(X_val)\n",
        "    accuracies.append(accuracy(y_val, y_val_pred))\n",
        "\n",
        "plt.figure(figsize=(8, 6))\n",
        "plt.plot(k_values, accuracies, marker='o', color='green')\n",
        "plt.title('Accuracy vs. Number of Neighbors (K)')\n",
        "plt.xlabel('Number of Neighbors (K)')\n",
        "plt.ylabel('Accuracy')\n",
        "plt.grid(True)\n",
        "plt.show()\n"
      ],
      "metadata": {
        "colab": {
          "base_uri": "https://localhost:8080/",
          "height": 564
        },
        "id": "fI87vfCUnjej",
        "outputId": "353adf35-5165-44a1-fb91-79d197e469c4"
      },
      "execution_count": 1361,
      "outputs": [
        {
          "output_type": "display_data",
          "data": {
            "text/plain": [
              "<Figure size 800x600 with 1 Axes>"
            ],
            "image/png": "[encoded data removed]"
          },
          "metadata": {}
        }
      ]
    },
    {
      "cell_type": "markdown",
      "source": [
        "## Naive Bayesian Classifier\n"
      ],
      "metadata": {
        "id": "jsw-v28ip4gV"
      }
    },
    {
      "cell_type": "code",
      "source": [
        "from sklearn.naive_bayes import GaussianNB"
      ],
      "metadata": {
        "id": "dXYQIiLknwsO"
      },
      "execution_count": 1362,
      "outputs": []
    },
    {
      "cell_type": "code",
      "source": [
        "nb = GaussianNB()\n",
        "nb.fit(X_train, y_train)"
      ],
      "metadata": {
        "id": "IKqgn8TJnjbM",
        "colab": {
          "base_uri": "https://localhost:8080/",
          "height": 0
        },
        "outputId": "3b2ef735-f6f1-4de9-f6f3-b2bd973799c8"
      },
      "execution_count": 1363,
      "outputs": [
        {
          "output_type": "execute_result",
          "data": {
            "text/plain": [
              "GaussianNB()"
            ],
            "text/html": [
              "<style>#sk-container-id-7 {\n",
              "  /* Definition of color scheme common for light and dark mode */\n",
              "  --sklearn-color-text: black;\n",
              "  --sklearn-color-line: gray;\n",
              "  /* Definition of color scheme for unfitted estimators */\n",
              "  --sklearn-color-unfitted-level-0: #fff5e6;\n",
              "  --sklearn-color-unfitted-level-1: #f6e4d2;\n",
              "  --sklearn-color-unfitted-level-2: #ffe0b3;\n",
              "  --sklearn-color-unfitted-level-3: chocolate;\n",
              "  /* Definition of color scheme for fitted estimators */\n",
              "  --sklearn-color-fitted-level-0: #f0f8ff;\n",
              "  --sklearn-color-fitted-level-1: #d4ebff;\n",
              "  --sklearn-color-fitted-level-2: #b3dbfd;\n",
              "  --sklearn-color-fitted-level-3: cornflowerblue;\n",
              "\n",
              "  /* Specific color for light theme */\n",
              "  --sklearn-color-text-on-default-background: var(--sg-text-color, var(--theme-code-foreground, var(--jp-content-font-color1, black)));\n",
              "  --sklearn-color-background: var(--sg-background-color, var(--theme-background, var(--jp-layout-color0, white)));\n",
              "  --sklearn-color-border-box: var(--sg-text-color, var(--theme-code-foreground, var(--jp-content-font-color1, black)));\n",
              "  --sklearn-color-icon: #696969;\n",
              "\n",
              "  @media (prefers-color-scheme: dark) {\n",
              "    /* Redefinition of color scheme for dark theme */\n",
              "    --sklearn-color-text-on-default-background: var(--sg-text-color, var(--theme-code-foreground, var(--jp-content-font-color1, white)));\n",
              "    --sklearn-color-background: var(--sg-background-color, var(--theme-background, var(--jp-layout-color0, #111)));\n",
              "    --sklearn-color-border-box: var(--sg-text-color, var(--theme-code-foreground, var(--jp-content-font-color1, white)));\n",
              "    --sklearn-color-icon: #878787;\n",
              "  }\n",
              "}\n",
              "\n",
              "#sk-container-id-7 {\n",
              "  color: var(--sklearn-color-text);\n",
              "}\n",
              "\n",
              "#sk-container-id-7 pre {\n",
              "  padding: 0;\n",
              "}\n",
              "\n",
              "#sk-container-id-7 input.sk-hidden--visually {\n",
              "  border: 0;\n",
              "  clip: rect(1px 1px 1px 1px);\n",
              "  clip: rect(1px, 1px, 1px, 1px);\n",
              "  height: 1px;\n",
              "  margin: -1px;\n",
              "  overflow: hidden;\n",
              "  padding: 0;\n",
              "  position: absolute;\n",
              "  width: 1px;\n",
              "}\n",
              "\n",
              "#sk-container-id-7 div.sk-dashed-wrapped {\n",
              "  border: 1px dashed var(--sklearn-color-line);\n",
              "  margin: 0 0.4em 0.5em 0.4em;\n",
              "  box-sizing: border-box;\n",
              "  padding-bottom: 0.4em;\n",
              "  background-color: var(--sklearn-color-background);\n",
              "}\n",
              "\n",
              "#sk-container-id-7 div.sk-container {\n",
              "  /* jupyter's `normalize.less` sets `[hidden] { display: none; }`\n",
              "     but bootstrap.min.css set `[hidden] { display: none !important; }`\n",
              "     so we also need the `!important` here to be able to override the\n",
              "     default hidden behavior on the sphinx rendered scikit-learn.org.\n",
              "     See: https://github.com/scikit-learn/scikit-learn/issues/21755 */\n",
              "  display: inline-block !important;\n",
              "  position: relative;\n",
              "}\n",
              "\n",
              "#sk-container-id-7 div.sk-text-repr-fallback {\n",
              "  display: none;\n",
              "}\n",
              "\n",
              "div.sk-parallel-item,\n",
              "div.sk-serial,\n",
              "div.sk-item {\n",
              "  /* draw centered vertical line to link estimators */\n",
              "  background-image: linear-gradient(var(--sklearn-color-text-on-default-background), var(--sklearn-color-text-on-default-background));\n",
              "  background-size: 2px 100%;\n",
              "  background-repeat: no-repeat;\n",
              "  background-position: center center;\n",
              "}\n",
              "\n",
              "/* Parallel-specific style estimator block */\n",
              "\n",
              "#sk-container-id-7 div.sk-parallel-item::after {\n",
              "  content: \"\";\n",
              "  width: 100%;\n",
              "  border-bottom: 2px solid var(--sklearn-color-text-on-default-background);\n",
              "  flex-grow: 1;\n",
              "}\n",
              "\n",
              "#sk-container-id-7 div.sk-parallel {\n",
              "  display: flex;\n",
              "  align-items: stretch;\n",
              "  justify-content: center;\n",
              "  background-color: var(--sklearn-color-background);\n",
              "  position: relative;\n",
              "}\n",
              "\n",
              "#sk-container-id-7 div.sk-parallel-item {\n",
              "  display: flex;\n",
              "  flex-direction: column;\n",
              "}\n",
              "\n",
              "#sk-container-id-7 div.sk-parallel-item:first-child::after {\n",
              "  align-self: flex-end;\n",
              "  width: 50%;\n",
              "}\n",
              "\n",
              "#sk-container-id-7 div.sk-parallel-item:last-child::after {\n",
              "  align-self: flex-start;\n",
              "  width: 50%;\n",
              "}\n",
              "\n",
              "#sk-container-id-7 div.sk-parallel-item:only-child::after {\n",
              "  width: 0;\n",
              "}\n",
              "\n",
              "/* Serial-specific style estimator block */\n",
              "\n",
              "#sk-container-id-7 div.sk-serial {\n",
              "  display: flex;\n",
              "  flex-direction: column;\n",
              "  align-items: center;\n",
              "  background-color: var(--sklearn-color-background);\n",
              "  padding-right: 1em;\n",
              "  padding-left: 1em;\n",
              "}\n",
              "\n",
              "\n",
              "/* Toggleable style: style used for estimator/Pipeline/ColumnTransformer box that is\n",
              "clickable and can be expanded/collapsed.\n",
              "- Pipeline and ColumnTransformer use this feature and define the default style\n",
              "- Estimators will overwrite some part of the style using the `sk-estimator` class\n",
              "*/\n",
              "\n",
              "/* Pipeline and ColumnTransformer style (default) */\n",
              "\n",
              "#sk-container-id-7 div.sk-toggleable {\n",
              "  /* Default theme specific background. It is overwritten whether we have a\n",
              "  specific estimator or a Pipeline/ColumnTransformer */\n",
              "  background-color: var(--sklearn-color-background);\n",
              "}\n",
              "\n",
              "/* Toggleable label */\n",
              "#sk-container-id-7 label.sk-toggleable__label {\n",
              "  cursor: pointer;\n",
              "  display: block;\n",
              "  width: 100%;\n",
              "  margin-bottom: 0;\n",
              "  padding: 0.5em;\n",
              "  box-sizing: border-box;\n",
              "  text-align: center;\n",
              "}\n",
              "\n",
              "#sk-container-id-7 label.sk-toggleable__label-arrow:before {\n",
              "  /* Arrow on the left of the label */\n",
              "  content: \"▸\";\n",
              "  float: left;\n",
              "  margin-right: 0.25em;\n",
              "  color: var(--sklearn-color-icon);\n",
              "}\n",
              "\n",
              "#sk-container-id-7 label.sk-toggleable__label-arrow:hover:before {\n",
              "  color: var(--sklearn-color-text);\n",
              "}\n",
              "\n",
              "/* Toggleable content - dropdown */\n",
              "\n",
              "#sk-container-id-7 div.sk-toggleable__content {\n",
              "  max-height: 0;\n",
              "  max-width: 0;\n",
              "  overflow: hidden;\n",
              "  text-align: left;\n",
              "  /* unfitted */\n",
              "  background-color: var(--sklearn-color-unfitted-level-0);\n",
              "}\n",
              "\n",
              "#sk-container-id-7 div.sk-toggleable__content.fitted {\n",
              "  /* fitted */\n",
              "  background-color: var(--sklearn-color-fitted-level-0);\n",
              "}\n",
              "\n",
              "#sk-container-id-7 div.sk-toggleable__content pre {\n",
              "  margin: 0.2em;\n",
              "  border-radius: 0.25em;\n",
              "  color: var(--sklearn-color-text);\n",
              "  /* unfitted */\n",
              "  background-color: var(--sklearn-color-unfitted-level-0);\n",
              "}\n",
              "\n",
              "#sk-container-id-7 div.sk-toggleable__content.fitted pre {\n",
              "  /* unfitted */\n",
              "  background-color: var(--sklearn-color-fitted-level-0);\n",
              "}\n",
              "\n",
              "#sk-container-id-7 input.sk-toggleable__control:checked~div.sk-toggleable__content {\n",
              "  /* Expand drop-down */\n",
              "  max-height: 200px;\n",
              "  max-width: 100%;\n",
              "  overflow: auto;\n",
              "}\n",
              "\n",
              "#sk-container-id-7 input.sk-toggleable__control:checked~label.sk-toggleable__label-arrow:before {\n",
              "  content: \"▾\";\n",
              "}\n",
              "\n",
              "/* Pipeline/ColumnTransformer-specific style */\n",
              "\n",
              "#sk-container-id-7 div.sk-label input.sk-toggleable__control:checked~label.sk-toggleable__label {\n",
              "  color: var(--sklearn-color-text);\n",
              "  background-color: var(--sklearn-color-unfitted-level-2);\n",
              "}\n",
              "\n",
              "#sk-container-id-7 div.sk-label.fitted input.sk-toggleable__control:checked~label.sk-toggleable__label {\n",
              "  background-color: var(--sklearn-color-fitted-level-2);\n",
              "}\n",
              "\n",
              "/* Estimator-specific style */\n",
              "\n",
              "/* Colorize estimator box */\n",
              "#sk-container-id-7 div.sk-estimator input.sk-toggleable__control:checked~label.sk-toggleable__label {\n",
              "  /* unfitted */\n",
              "  background-color: var(--sklearn-color-unfitted-level-2);\n",
              "}\n",
              "\n",
              "#sk-container-id-7 div.sk-estimator.fitted input.sk-toggleable__control:checked~label.sk-toggleable__label {\n",
              "  /* fitted */\n",
              "  background-color: var(--sklearn-color-fitted-level-2);\n",
              "}\n",
              "\n",
              "#sk-container-id-7 div.sk-label label.sk-toggleable__label,\n",
              "#sk-container-id-7 div.sk-label label {\n",
              "  /* The background is the default theme color */\n",
              "  color: var(--sklearn-color-text-on-default-background);\n",
              "}\n",
              "\n",
              "/* On hover, darken the color of the background */\n",
              "#sk-container-id-7 div.sk-label:hover label.sk-toggleable__label {\n",
              "  color: var(--sklearn-color-text);\n",
              "  background-color: var(--sklearn-color-unfitted-level-2);\n",
              "}\n",
              "\n",
              "/* Label box, darken color on hover, fitted */\n",
              "#sk-container-id-7 div.sk-label.fitted:hover label.sk-toggleable__label.fitted {\n",
              "  color: var(--sklearn-color-text);\n",
              "  background-color: var(--sklearn-color-fitted-level-2);\n",
              "}\n",
              "\n",
              "/* Estimator label */\n",
              "\n",
              "#sk-container-id-7 div.sk-label label {\n",
              "  font-family: monospace;\n",
              "  font-weight: bold;\n",
              "  display: inline-block;\n",
              "  line-height: 1.2em;\n",
              "}\n",
              "\n",
              "#sk-container-id-7 div.sk-label-container {\n",
              "  text-align: center;\n",
              "}\n",
              "\n",
              "/* Estimator-specific */\n",
              "#sk-container-id-7 div.sk-estimator {\n",
              "  font-family: monospace;\n",
              "  border: 1px dotted var(--sklearn-color-border-box);\n",
              "  border-radius: 0.25em;\n",
              "  box-sizing: border-box;\n",
              "  margin-bottom: 0.5em;\n",
              "  /* unfitted */\n",
              "  background-color: var(--sklearn-color-unfitted-level-0);\n",
              "}\n",
              "\n",
              "#sk-container-id-7 div.sk-estimator.fitted {\n",
              "  /* fitted */\n",
              "  background-color: var(--sklearn-color-fitted-level-0);\n",
              "}\n",
              "\n",
              "/* on hover */\n",
              "#sk-container-id-7 div.sk-estimator:hover {\n",
              "  /* unfitted */\n",
              "  background-color: var(--sklearn-color-unfitted-level-2);\n",
              "}\n",
              "\n",
              "#sk-container-id-7 div.sk-estimator.fitted:hover {\n",
              "  /* fitted */\n",
              "  background-color: var(--sklearn-color-fitted-level-2);\n",
              "}\n",
              "\n",
              "/* Specification for estimator info (e.g. \"i\" and \"?\") */\n",
              "\n",
              "/* Common style for \"i\" and \"?\" */\n",
              "\n",
              ".sk-estimator-doc-link,\n",
              "a:link.sk-estimator-doc-link,\n",
              "a:visited.sk-estimator-doc-link {\n",
              "  float: right;\n",
              "  font-size: smaller;\n",
              "  line-height: 1em;\n",
              "  font-family: monospace;\n",
              "  background-color: var(--sklearn-color-background);\n",
              "  border-radius: 1em;\n",
              "  height: 1em;\n",
              "  width: 1em;\n",
              "  text-decoration: none !important;\n",
              "  margin-left: 1ex;\n",
              "  /* unfitted */\n",
              "  border: var(--sklearn-color-unfitted-level-1) 1pt solid;\n",
              "  color: var(--sklearn-color-unfitted-level-1);\n",
              "}\n",
              "\n",
              ".sk-estimator-doc-link.fitted,\n",
              "a:link.sk-estimator-doc-link.fitted,\n",
              "a:visited.sk-estimator-doc-link.fitted {\n",
              "  /* fitted */\n",
              "  border: var(--sklearn-color-fitted-level-1) 1pt solid;\n",
              "  color: var(--sklearn-color-fitted-level-1);\n",
              "}\n",
              "\n",
              "/* On hover */\n",
              "div.sk-estimator:hover .sk-estimator-doc-link:hover,\n",
              ".sk-estimator-doc-link:hover,\n",
              "div.sk-label-container:hover .sk-estimator-doc-link:hover,\n",
              ".sk-estimator-doc-link:hover {\n",
              "  /* unfitted */\n",
              "  background-color: var(--sklearn-color-unfitted-level-3);\n",
              "  color: var(--sklearn-color-background);\n",
              "  text-decoration: none;\n",
              "}\n",
              "\n",
              "div.sk-estimator.fitted:hover .sk-estimator-doc-link.fitted:hover,\n",
              ".sk-estimator-doc-link.fitted:hover,\n",
              "div.sk-label-container:hover .sk-estimator-doc-link.fitted:hover,\n",
              ".sk-estimator-doc-link.fitted:hover {\n",
              "  /* fitted */\n",
              "  background-color: var(--sklearn-color-fitted-level-3);\n",
              "  color: var(--sklearn-color-background);\n",
              "  text-decoration: none;\n",
              "}\n",
              "\n",
              "/* Span, style for the box shown on hovering the info icon */\n",
              ".sk-estimator-doc-link span {\n",
              "  display: none;\n",
              "  z-index: 9999;\n",
              "  position: relative;\n",
              "  font-weight: normal;\n",
              "  right: .2ex;\n",
              "  padding: .5ex;\n",
              "  margin: .5ex;\n",
              "  width: min-content;\n",
              "  min-width: 20ex;\n",
              "  max-width: 50ex;\n",
              "  color: var(--sklearn-color-text);\n",
              "  box-shadow: 2pt 2pt 4pt #999;\n",
              "  /* unfitted */\n",
              "  background: var(--sklearn-color-unfitted-level-0);\n",
              "  border: .5pt solid var(--sklearn-color-unfitted-level-3);\n",
              "}\n",
              "\n",
              ".sk-estimator-doc-link.fitted span {\n",
              "  /* fitted */\n",
              "  background: var(--sklearn-color-fitted-level-0);\n",
              "  border: var(--sklearn-color-fitted-level-3);\n",
              "}\n",
              "\n",
              ".sk-estimator-doc-link:hover span {\n",
              "  display: block;\n",
              "}\n",
              "\n",
              "/* \"?\"-specific style due to the `<a>` HTML tag */\n",
              "\n",
              "#sk-container-id-7 a.estimator_doc_link {\n",
              "  float: right;\n",
              "  font-size: 1rem;\n",
              "  line-height: 1em;\n",
              "  font-family: monospace;\n",
              "  background-color: var(--sklearn-color-background);\n",
              "  border-radius: 1rem;\n",
              "  height: 1rem;\n",
              "  width: 1rem;\n",
              "  text-decoration: none;\n",
              "  /* unfitted */\n",
              "  color: var(--sklearn-color-unfitted-level-1);\n",
              "  border: var(--sklearn-color-unfitted-level-1) 1pt solid;\n",
              "}\n",
              "\n",
              "#sk-container-id-7 a.estimator_doc_link.fitted {\n",
              "  /* fitted */\n",
              "  border: var(--sklearn-color-fitted-level-1) 1pt solid;\n",
              "  color: var(--sklearn-color-fitted-level-1);\n",
              "}\n",
              "\n",
              "/* On hover */\n",
              "#sk-container-id-7 a.estimator_doc_link:hover {\n",
              "  /* unfitted */\n",
              "  background-color: var(--sklearn-color-unfitted-level-3);\n",
              "  color: var(--sklearn-color-background);\n",
              "  text-decoration: none;\n",
              "}\n",
              "\n",
              "#sk-container-id-7 a.estimator_doc_link.fitted:hover {\n",
              "  /* fitted */\n",
              "  background-color: var(--sklearn-color-fitted-level-3);\n",
              "}\n",
              "</style><div id=\"sk-container-id-7\" class=\"sk-top-container\"><div class=\"sk-text-repr-fallback\"><pre>GaussianNB()</pre><b>In a Jupyter environment, please rerun this cell to show the HTML representation or trust the notebook. <br />On GitHub, the HTML representation is unable to render, please try loading this page with nbviewer.org.</b></div><div class=\"sk-container\" hidden><div class=\"sk-item\"><div class=\"sk-estimator fitted sk-toggleable\"><input class=\"sk-toggleable__control sk-hidden--visually\" id=\"sk-estimator-id-7\" type=\"checkbox\" checked><label for=\"sk-estimator-id-7\" class=\"sk-toggleable__label fitted sk-toggleable__label-arrow fitted\">&nbsp;&nbsp;GaussianNB<a class=\"sk-estimator-doc-link fitted\" rel=\"noreferrer\" target=\"_blank\" href=\"https://scikit-learn.org/1.5/modules/generated/sklearn.naive_bayes.GaussianNB.html\">?<span>Documentation for GaussianNB</span></a><span class=\"sk-estimator-doc-link fitted\">i<span>Fitted</span></span></label><div class=\"sk-toggleable__content fitted\"><pre>GaussianNB()</pre></div> </div></div></div></div>"
            ]
          },
          "metadata": {},
          "execution_count": 1363
        }
      ]
    },
    {
      "cell_type": "code",
      "source": [
        "y_val_pred = nb.predict(X_val)\n",
        "y_test_pred = nb.predict(X_test)\n",
        "y_test_pred = nb.predict(X_test)"
      ],
      "metadata": {
        "id": "p3qjXJs6lBzd"
      },
      "execution_count": 1364,
      "outputs": []
    },
    {
      "cell_type": "code",
      "source": [
        "accuracy_val = accuracy(y_val, y_val_pred)\n",
        "precision_val = precision_manual(y_val, y_val_pred, average='weighted')\n",
        "recall_val = recall_manual(y_val, y_val_pred, average='weighted')\n",
        "f1_val = f1_score_manual(y_val, y_val_pred, average='weighted')\n"
      ],
      "metadata": {
        "id": "uVpD-xGXnjYI"
      },
      "execution_count": 1365,
      "outputs": []
    },
    {
      "cell_type": "code",
      "source": [
        "print(f\"Validation Accuracy: {accuracy_val}\")\n",
        "print(f\"Validation Precision: {precision_val}\")\n",
        "print(f\"Validation Recall: {recall_val}\")\n",
        "print(f\"Validation F1 Score: {f1_val}\")"
      ],
      "metadata": {
        "colab": {
          "base_uri": "https://localhost:8080/"
        },
        "id": "Jlp5YxHAnjKa",
        "outputId": "01b8d19e-e651-4c81-894e-1c86065ebab9"
      },
      "execution_count": 1366,
      "outputs": [
        {
          "output_type": "stream",
          "name": "stdout",
          "text": [
            "Validation Accuracy: 0.7692307692307693\n",
            "Validation Precision: 0.7589743589743589\n",
            "Validation Recall: 0.7692307692307692\n",
            "Validation F1 Score: 0.75882012724118\n"
          ]
        }
      ]
    },
    {
      "cell_type": "code",
      "source": [
        "accuracy_test = accuracy(y_test, y_test_pred)\n",
        "precision_test = precision_manual(y_test, y_test_pred, average='weighted')\n",
        "recall_test = recall_manual(y_test, y_test_pred, average='weighted')\n",
        "f1_test = f1_score_manual(y_test, y_test_pred, average='weighted')\n"
      ],
      "metadata": {
        "id": "YgFipZ30qJDE"
      },
      "execution_count": 1367,
      "outputs": []
    },
    {
      "cell_type": "code",
      "source": [
        "print(f\"Test Accuracy: {accuracy_test}\")\n",
        "print(f\"Test Precision: {precision_test}\")\n",
        "print(f\"Test Recall: {recall_test}\")\n",
        "print(f\"Test F1 Score: {f1_test}\")\n"
      ],
      "metadata": {
        "colab": {
          "base_uri": "https://localhost:8080/"
        },
        "id": "MhtbAK-mqNO_",
        "outputId": "e259c4ef-90b4-4c03-9420-5927fffca133"
      },
      "execution_count": 1368,
      "outputs": [
        {
          "output_type": "stream",
          "name": "stdout",
          "text": [
            "Test Accuracy: 0.7857142857142857\n",
            "Test Precision: 0.8005952380952381\n",
            "Test Recall: 0.7857142857142858\n",
            "Test F1 Score: 0.7891520244461422\n"
          ]
        }
      ]
    },
    {
      "cell_type": "code",
      "source": [
        "conf_matrix = confusion_matrix(y_test, y_test_pred)\n",
        "print(\"Confusion Matrix:\")\n",
        "print(conf_matrix)"
      ],
      "metadata": {
        "colab": {
          "base_uri": "https://localhost:8080/"
        },
        "id": "YojMj2ran20J",
        "outputId": "7f523213-1d91-4e1d-89de-9d0293040494"
      },
      "execution_count": 1369,
      "outputs": [
        {
          "output_type": "stream",
          "name": "stdout",
          "text": [
            "Confusion Matrix:\n",
            "[[7 2]\n",
            " [1 4]]\n"
          ]
        }
      ]
    },
    {
      "cell_type": "code",
      "source": [
        "plt.figure(figsize=(8, 6))\n",
        "sns.heatmap(conf_matrix, annot=True, fmt=\"d\", cmap=\"Blues\", xticklabels=[1, 2, 3], yticklabels=[1, 2, 3])\n",
        "plt.title(\"Confusion Matrix\")\n",
        "plt.xlabel(\"Predicted\")\n",
        "plt.ylabel(\"Actual\")\n",
        "plt.show()"
      ],
      "metadata": {
        "colab": {
          "base_uri": "https://localhost:8080/",
          "height": 0
        },
        "id": "6aKQsOYwqSbm",
        "outputId": "20353f47-565b-4507-f673-981ae3f5aa27"
      },
      "execution_count": 1370,
      "outputs": [
        {
          "output_type": "display_data",
          "data": {
            "text/plain": [
              "<Figure size 800x600 with 2 Axes>"
            ],
            "image/png": "[encoded data removed]"
          },
          "metadata": {}
        }
      ]
    },
    {
      "cell_type": "code",
      "source": [
        "accuracy_test = accuracy(y_test, y_test_pred)\n",
        "precision_test = precision_manual(y_test, y_test_pred, average='weighted')\n",
        "recall_test = recall_manual(y_test, y_test_pred, average='weighted')\n",
        "f1_test = f1_score_manual(y_test, y_test_pred, average='weighted')\n",
        "\n",
        "print(f\"Test Accuracy (Naive Bayes): {accuracy_test}\")\n",
        "print(f\"Test Precision (Naive Bayes): {precision_test}\")\n",
        "print(f\"Test Recall (Naive Bayes): {recall_test}\")\n",
        "print(f\"Test F1 Score (Naive Bayes): {f1_test}\")"
      ],
      "metadata": {
        "colab": {
          "base_uri": "https://localhost:8080/"
        },
        "id": "iy_9EOsTqcHb",
        "outputId": "fb01722a-bfc5-41dc-a13f-065fb2c6b384"
      },
      "execution_count": 1371,
      "outputs": [
        {
          "output_type": "stream",
          "name": "stdout",
          "text": [
            "Test Accuracy (Naive Bayes): 0.7857142857142857\n",
            "Test Precision (Naive Bayes): 0.8005952380952381\n",
            "Test Recall (Naive Bayes): 0.7857142857142858\n",
            "Test F1 Score (Naive Bayes): 0.7891520244461422\n"
          ]
        }
      ]
    },
    {
      "cell_type": "markdown",
      "source": [
        "## SVC"
      ],
      "metadata": {
        "id": "1WFmBSGjlQyZ"
      }
    },
    {
      "cell_type": "code",
      "source": [
        "from sklearn.svm import SVC\n",
        "from sklearn.pipeline import Pipeline"
      ],
      "metadata": {
        "id": "CtBnjL6WtPfq"
      },
      "execution_count": 1372,
      "outputs": []
    },
    {
      "cell_type": "code",
      "source": [
        "pipeline = Pipeline([\n",
        "    ('scaler', StandardScaler()),\n",
        "    ('svc', SVC(probability=True))\n",
        "])\n",
        "\n",
        "param_grid = {\n",
        "    'svc__C': [0.01, 0.1, 1, 10, 100],\n",
        "    'svc__kernel': ['linear', 'rbf'],\n",
        "    'svc__gamma': ['scale', 0.001, 0.01, 0.1, 1]\n",
        "}\n",
        "\n",
        "grid_search = GridSearchCV(pipeline, param_grid, cv=5, scoring='roc_auc', verbose=2)\n",
        "grid_search.fit(X_train, y_train)\n",
        "\n",
        "best_model = grid_search.best_estimator_\n",
        "\n",
        "print(\"Best Parameters:\", grid_search.best_params_)\n",
        "print(\"Best ROC-AUC Score:\", grid_search.best_score_)"
      ],
      "metadata": {
        "id": "SeDmwD18tP9a",
        "colab": {
          "base_uri": "https://localhost:8080/"
        },
        "outputId": "6a54cf9f-dd26-4df2-c82a-9e370b66640b"
      },
      "execution_count": 1373,
      "outputs": [
        {
          "output_type": "stream",
          "name": "stdout",
          "text": [
            "Fitting 5 folds for each of 50 candidates, totalling 250 fits\n",
            "[CV] END ..svc__C=0.01, svc__gamma=scale, svc__kernel=linear; total time=   0.0s\n",
            "[CV] END ..svc__C=0.01, svc__gamma=scale, svc__kernel=linear; total time=   0.0s\n",
            "[CV] END ..svc__C=0.01, svc__gamma=scale, svc__kernel=linear; total time=   0.0s\n",
            "[CV] END ..svc__C=0.01, svc__gamma=scale, svc__kernel=linear; total time=   0.0s\n",
            "[CV] END ..svc__C=0.01, svc__gamma=scale, svc__kernel=linear; total time=   0.0s\n",
            "[CV] END .....svc__C=0.01, svc__gamma=scale, svc__kernel=rbf; total time=   0.0s\n",
            "[CV] END .....svc__C=0.01, svc__gamma=scale, svc__kernel=rbf; total time=   0.0s\n",
            "[CV] END .....svc__C=0.01, svc__gamma=scale, svc__kernel=rbf; total time=   0.0s\n",
            "[CV] END .....svc__C=0.01, svc__gamma=scale, svc__kernel=rbf; total time=   0.0s\n",
            "[CV] END .....svc__C=0.01, svc__gamma=scale, svc__kernel=rbf; total time=   0.0s\n",
            "[CV] END ..svc__C=0.01, svc__gamma=0.001, svc__kernel=linear; total time=   0.0s\n",
            "[CV] END ..svc__C=0.01, svc__gamma=0.001, svc__kernel=linear; total time=   0.0s\n",
            "[CV] END ..svc__C=0.01, svc__gamma=0.001, svc__kernel=linear; total time=   0.0s\n",
            "[CV] END ..svc__C=0.01, svc__gamma=0.001, svc__kernel=linear; total time=   0.0s\n",
            "[CV] END ..svc__C=0.01, svc__gamma=0.001, svc__kernel=linear; total time=   0.0s\n",
            "[CV] END .....svc__C=0.01, svc__gamma=0.001, svc__kernel=rbf; total time=   0.0s\n",
            "[CV] END .....svc__C=0.01, svc__gamma=0.001, svc__kernel=rbf; total time=   0.0s\n",
            "[CV] END .....svc__C=0.01, svc__gamma=0.001, svc__kernel=rbf; total time=   0.0s\n",
            "[CV] END .....svc__C=0.01, svc__gamma=0.001, svc__kernel=rbf; total time=   0.0s\n",
            "[CV] END .....svc__C=0.01, svc__gamma=0.001, svc__kernel=rbf; total time=   0.0s\n",
            "[CV] END ...svc__C=0.01, svc__gamma=0.01, svc__kernel=linear; total time=   0.0s\n",
            "[CV] END ...svc__C=0.01, svc__gamma=0.01, svc__kernel=linear; total time=   0.0s\n",
            "[CV] END ...svc__C=0.01, svc__gamma=0.01, svc__kernel=linear; total time=   0.0s\n",
            "[CV] END ...svc__C=0.01, svc__gamma=0.01, svc__kernel=linear; total time=   0.0s\n",
            "[CV] END ...svc__C=0.01, svc__gamma=0.01, svc__kernel=linear; total time=   0.0s\n",
            "[CV] END ......svc__C=0.01, svc__gamma=0.01, svc__kernel=rbf; total time=   0.0s\n",
            "[CV] END ......svc__C=0.01, svc__gamma=0.01, svc__kernel=rbf; total time=   0.0s\n",
            "[CV] END ......svc__C=0.01, svc__gamma=0.01, svc__kernel=rbf; total time=   0.0s\n",
            "[CV] END ......svc__C=0.01, svc__gamma=0.01, svc__kernel=rbf; total time=   0.0s\n",
            "[CV] END ......svc__C=0.01, svc__gamma=0.01, svc__kernel=rbf; total time=   0.0s\n",
            "[CV] END ....svc__C=0.01, svc__gamma=0.1, svc__kernel=linear; total time=   0.0s\n",
            "[CV] END ....svc__C=0.01, svc__gamma=0.1, svc__kernel=linear; total time=   0.0s\n",
            "[CV] END ....svc__C=0.01, svc__gamma=0.1, svc__kernel=linear; total time=   0.0s\n",
            "[CV] END ....svc__C=0.01, svc__gamma=0.1, svc__kernel=linear; total time=   0.0s\n",
            "[CV] END ....svc__C=0.01, svc__gamma=0.1, svc__kernel=linear; total time=   0.0s\n",
            "[CV] END .......svc__C=0.01, svc__gamma=0.1, svc__kernel=rbf; total time=   0.0s\n",
            "[CV] END .......svc__C=0.01, svc__gamma=0.1, svc__kernel=rbf; total time=   0.0s\n",
            "[CV] END .......svc__C=0.01, svc__gamma=0.1, svc__kernel=rbf; total time=   0.0s\n",
            "[CV] END .......svc__C=0.01, svc__gamma=0.1, svc__kernel=rbf; total time=   0.0s\n",
            "[CV] END .......svc__C=0.01, svc__gamma=0.1, svc__kernel=rbf; total time=   0.0s\n",
            "[CV] END ......svc__C=0.01, svc__gamma=1, svc__kernel=linear; total time=   0.0s\n",
            "[CV] END ......svc__C=0.01, svc__gamma=1, svc__kernel=linear; total time=   0.0s\n",
            "[CV] END ......svc__C=0.01, svc__gamma=1, svc__kernel=linear; total time=   0.0s\n",
            "[CV] END ......svc__C=0.01, svc__gamma=1, svc__kernel=linear; total time=   0.0s\n",
            "[CV] END ......svc__C=0.01, svc__gamma=1, svc__kernel=linear; total time=   0.0s\n",
            "[CV] END .........svc__C=0.01, svc__gamma=1, svc__kernel=rbf; total time=   0.0s\n",
            "[CV] END .........svc__C=0.01, svc__gamma=1, svc__kernel=rbf; total time=   0.0s\n",
            "[CV] END .........svc__C=0.01, svc__gamma=1, svc__kernel=rbf; total time=   0.0s\n",
            "[CV] END .........svc__C=0.01, svc__gamma=1, svc__kernel=rbf; total time=   0.0s\n",
            "[CV] END .........svc__C=0.01, svc__gamma=1, svc__kernel=rbf; total time=   0.0s\n",
            "[CV] END ...svc__C=0.1, svc__gamma=scale, svc__kernel=linear; total time=   0.0s\n",
            "[CV] END ...svc__C=0.1, svc__gamma=scale, svc__kernel=linear; total time=   0.0s\n",
            "[CV] END ...svc__C=0.1, svc__gamma=scale, svc__kernel=linear; total time=   0.0s\n",
            "[CV] END ...svc__C=0.1, svc__gamma=scale, svc__kernel=linear; total time=   0.0s\n",
            "[CV] END ...svc__C=0.1, svc__gamma=scale, svc__kernel=linear; total time=   0.0s\n",
            "[CV] END ......svc__C=0.1, svc__gamma=scale, svc__kernel=rbf; total time=   0.0s\n",
            "[CV] END ......svc__C=0.1, svc__gamma=scale, svc__kernel=rbf; total time=   0.0s\n",
            "[CV] END ......svc__C=0.1, svc__gamma=scale, svc__kernel=rbf; total time=   0.0s\n",
            "[CV] END ......svc__C=0.1, svc__gamma=scale, svc__kernel=rbf; total time=   0.0s\n",
            "[CV] END ......svc__C=0.1, svc__gamma=scale, svc__kernel=rbf; total time=   0.0s\n",
            "[CV] END ...svc__C=0.1, svc__gamma=0.001, svc__kernel=linear; total time=   0.0s\n",
            "[CV] END ...svc__C=0.1, svc__gamma=0.001, svc__kernel=linear; total time=   0.0s\n",
            "[CV] END ...svc__C=0.1, svc__gamma=0.001, svc__kernel=linear; total time=   0.0s\n",
            "[CV] END ...svc__C=0.1, svc__gamma=0.001, svc__kernel=linear; total time=   0.0s\n",
            "[CV] END ...svc__C=0.1, svc__gamma=0.001, svc__kernel=linear; total time=   0.0s\n",
            "[CV] END ......svc__C=0.1, svc__gamma=0.001, svc__kernel=rbf; total time=   0.0s\n",
            "[CV] END ......svc__C=0.1, svc__gamma=0.001, svc__kernel=rbf; total time=   0.0s\n",
            "[CV] END ......svc__C=0.1, svc__gamma=0.001, svc__kernel=rbf; total time=   0.0s\n",
            "[CV] END ......svc__C=0.1, svc__gamma=0.001, svc__kernel=rbf; total time=   0.0s\n",
            "[CV] END ......svc__C=0.1, svc__gamma=0.001, svc__kernel=rbf; total time=   0.0s\n",
            "[CV] END ....svc__C=0.1, svc__gamma=0.01, svc__kernel=linear; total time=   0.0s\n",
            "[CV] END ....svc__C=0.1, svc__gamma=0.01, svc__kernel=linear; total time=   0.0s\n",
            "[CV] END ....svc__C=0.1, svc__gamma=0.01, svc__kernel=linear; total time=   0.0s\n",
            "[CV] END ....svc__C=0.1, svc__gamma=0.01, svc__kernel=linear; total time=   0.0s\n",
            "[CV] END ....svc__C=0.1, svc__gamma=0.01, svc__kernel=linear; total time=   0.0s\n",
            "[CV] END .......svc__C=0.1, svc__gamma=0.01, svc__kernel=rbf; total time=   0.0s\n",
            "[CV] END .......svc__C=0.1, svc__gamma=0.01, svc__kernel=rbf; total time=   0.0s\n",
            "[CV] END .......svc__C=0.1, svc__gamma=0.01, svc__kernel=rbf; total time=   0.0s\n",
            "[CV] END .......svc__C=0.1, svc__gamma=0.01, svc__kernel=rbf; total time=   0.0s\n",
            "[CV] END .......svc__C=0.1, svc__gamma=0.01, svc__kernel=rbf; total time=   0.0s\n",
            "[CV] END .....svc__C=0.1, svc__gamma=0.1, svc__kernel=linear; total time=   0.0s\n",
            "[CV] END .....svc__C=0.1, svc__gamma=0.1, svc__kernel=linear; total time=   0.0s\n",
            "[CV] END .....svc__C=0.1, svc__gamma=0.1, svc__kernel=linear; total time=   0.0s\n",
            "[CV] END .....svc__C=0.1, svc__gamma=0.1, svc__kernel=linear; total time=   0.0s\n",
            "[CV] END .....svc__C=0.1, svc__gamma=0.1, svc__kernel=linear; total time=   0.0s\n",
            "[CV] END ........svc__C=0.1, svc__gamma=0.1, svc__kernel=rbf; total time=   0.0s\n",
            "[CV] END ........svc__C=0.1, svc__gamma=0.1, svc__kernel=rbf; total time=   0.0s\n",
            "[CV] END ........svc__C=0.1, svc__gamma=0.1, svc__kernel=rbf; total time=   0.0s\n",
            "[CV] END ........svc__C=0.1, svc__gamma=0.1, svc__kernel=rbf; total time=   0.0s\n",
            "[CV] END ........svc__C=0.1, svc__gamma=0.1, svc__kernel=rbf; total time=   0.0s\n",
            "[CV] END .......svc__C=0.1, svc__gamma=1, svc__kernel=linear; total time=   0.0s\n",
            "[CV] END .......svc__C=0.1, svc__gamma=1, svc__kernel=linear; total time=   0.0s\n",
            "[CV] END .......svc__C=0.1, svc__gamma=1, svc__kernel=linear; total time=   0.0s\n",
            "[CV] END .......svc__C=0.1, svc__gamma=1, svc__kernel=linear; total time=   0.0s\n",
            "[CV] END .......svc__C=0.1, svc__gamma=1, svc__kernel=linear; total time=   0.0s\n",
            "[CV] END ..........svc__C=0.1, svc__gamma=1, svc__kernel=rbf; total time=   0.0s\n",
            "[CV] END ..........svc__C=0.1, svc__gamma=1, svc__kernel=rbf; total time=   0.0s\n",
            "[CV] END ..........svc__C=0.1, svc__gamma=1, svc__kernel=rbf; total time=   0.0s\n",
            "[CV] END ..........svc__C=0.1, svc__gamma=1, svc__kernel=rbf; total time=   0.0s\n",
            "[CV] END ..........svc__C=0.1, svc__gamma=1, svc__kernel=rbf; total time=   0.0s\n",
            "[CV] END .....svc__C=1, svc__gamma=scale, svc__kernel=linear; total time=   0.0s\n",
            "[CV] END .....svc__C=1, svc__gamma=scale, svc__kernel=linear; total time=   0.0s\n",
            "[CV] END .....svc__C=1, svc__gamma=scale, svc__kernel=linear; total time=   0.0s\n",
            "[CV] END .....svc__C=1, svc__gamma=scale, svc__kernel=linear; total time=   0.0s\n",
            "[CV] END .....svc__C=1, svc__gamma=scale, svc__kernel=linear; total time=   0.0s\n",
            "[CV] END ........svc__C=1, svc__gamma=scale, svc__kernel=rbf; total time=   0.0s\n",
            "[CV] END ........svc__C=1, svc__gamma=scale, svc__kernel=rbf; total time=   0.0s\n",
            "[CV] END ........svc__C=1, svc__gamma=scale, svc__kernel=rbf; total time=   0.0s\n",
            "[CV] END ........svc__C=1, svc__gamma=scale, svc__kernel=rbf; total time=   0.0s\n",
            "[CV] END ........svc__C=1, svc__gamma=scale, svc__kernel=rbf; total time=   0.0s\n",
            "[CV] END .....svc__C=1, svc__gamma=0.001, svc__kernel=linear; total time=   0.0s\n",
            "[CV] END .....svc__C=1, svc__gamma=0.001, svc__kernel=linear; total time=   0.0s\n",
            "[CV] END .....svc__C=1, svc__gamma=0.001, svc__kernel=linear; total time=   0.0s\n",
            "[CV] END .....svc__C=1, svc__gamma=0.001, svc__kernel=linear; total time=   0.0s\n",
            "[CV] END .....svc__C=1, svc__gamma=0.001, svc__kernel=linear; total time=   0.0s\n",
            "[CV] END ........svc__C=1, svc__gamma=0.001, svc__kernel=rbf; total time=   0.0s\n",
            "[CV] END ........svc__C=1, svc__gamma=0.001, svc__kernel=rbf; total time=   0.0s\n",
            "[CV] END ........svc__C=1, svc__gamma=0.001, svc__kernel=rbf; total time=   0.0s\n",
            "[CV] END ........svc__C=1, svc__gamma=0.001, svc__kernel=rbf; total time=   0.0s\n",
            "[CV] END ........svc__C=1, svc__gamma=0.001, svc__kernel=rbf; total time=   0.0s\n",
            "[CV] END ......svc__C=1, svc__gamma=0.01, svc__kernel=linear; total time=   0.0s\n",
            "[CV] END ......svc__C=1, svc__gamma=0.01, svc__kernel=linear; total time=   0.0s\n",
            "[CV] END ......svc__C=1, svc__gamma=0.01, svc__kernel=linear; total time=   0.0s\n",
            "[CV] END ......svc__C=1, svc__gamma=0.01, svc__kernel=linear; total time=   0.0s\n",
            "[CV] END ......svc__C=1, svc__gamma=0.01, svc__kernel=linear; total time=   0.0s\n",
            "[CV] END .........svc__C=1, svc__gamma=0.01, svc__kernel=rbf; total time=   0.0s\n",
            "[CV] END .........svc__C=1, svc__gamma=0.01, svc__kernel=rbf; total time=   0.0s\n",
            "[CV] END .........svc__C=1, svc__gamma=0.01, svc__kernel=rbf; total time=   0.0s\n",
            "[CV] END .........svc__C=1, svc__gamma=0.01, svc__kernel=rbf; total time=   0.0s\n",
            "[CV] END .........svc__C=1, svc__gamma=0.01, svc__kernel=rbf; total time=   0.0s\n",
            "[CV] END .......svc__C=1, svc__gamma=0.1, svc__kernel=linear; total time=   0.0s\n",
            "[CV] END .......svc__C=1, svc__gamma=0.1, svc__kernel=linear; total time=   0.0s\n",
            "[CV] END .......svc__C=1, svc__gamma=0.1, svc__kernel=linear; total time=   0.0s\n",
            "[CV] END .......svc__C=1, svc__gamma=0.1, svc__kernel=linear; total time=   0.0s\n",
            "[CV] END .......svc__C=1, svc__gamma=0.1, svc__kernel=linear; total time=   0.0s\n",
            "[CV] END ..........svc__C=1, svc__gamma=0.1, svc__kernel=rbf; total time=   0.0s\n",
            "[CV] END ..........svc__C=1, svc__gamma=0.1, svc__kernel=rbf; total time=   0.0s\n",
            "[CV] END ..........svc__C=1, svc__gamma=0.1, svc__kernel=rbf; total time=   0.0s\n",
            "[CV] END ..........svc__C=1, svc__gamma=0.1, svc__kernel=rbf; total time=   0.0s\n",
            "[CV] END ..........svc__C=1, svc__gamma=0.1, svc__kernel=rbf; total time=   0.0s\n",
            "[CV] END .........svc__C=1, svc__gamma=1, svc__kernel=linear; total time=   0.0s\n",
            "[CV] END .........svc__C=1, svc__gamma=1, svc__kernel=linear; total time=   0.0s\n",
            "[CV] END .........svc__C=1, svc__gamma=1, svc__kernel=linear; total time=   0.0s\n",
            "[CV] END .........svc__C=1, svc__gamma=1, svc__kernel=linear; total time=   0.0s\n",
            "[CV] END .........svc__C=1, svc__gamma=1, svc__kernel=linear; total time=   0.0s\n",
            "[CV] END ............svc__C=1, svc__gamma=1, svc__kernel=rbf; total time=   0.0s\n",
            "[CV] END ............svc__C=1, svc__gamma=1, svc__kernel=rbf; total time=   0.0s\n",
            "[CV] END ............svc__C=1, svc__gamma=1, svc__kernel=rbf; total time=   0.0s\n",
            "[CV] END ............svc__C=1, svc__gamma=1, svc__kernel=rbf; total time=   0.0s\n",
            "[CV] END ............svc__C=1, svc__gamma=1, svc__kernel=rbf; total time=   0.0s\n",
            "[CV] END ....svc__C=10, svc__gamma=scale, svc__kernel=linear; total time=   0.0s\n",
            "[CV] END ....svc__C=10, svc__gamma=scale, svc__kernel=linear; total time=   0.0s\n",
            "[CV] END ....svc__C=10, svc__gamma=scale, svc__kernel=linear; total time=   0.0s\n",
            "[CV] END ....svc__C=10, svc__gamma=scale, svc__kernel=linear; total time=   0.0s\n",
            "[CV] END ....svc__C=10, svc__gamma=scale, svc__kernel=linear; total time=   0.0s\n",
            "[CV] END .......svc__C=10, svc__gamma=scale, svc__kernel=rbf; total time=   0.0s\n",
            "[CV] END .......svc__C=10, svc__gamma=scale, svc__kernel=rbf; total time=   0.0s\n",
            "[CV] END .......svc__C=10, svc__gamma=scale, svc__kernel=rbf; total time=   0.0s\n",
            "[CV] END .......svc__C=10, svc__gamma=scale, svc__kernel=rbf; total time=   0.0s\n",
            "[CV] END .......svc__C=10, svc__gamma=scale, svc__kernel=rbf; total time=   0.0s\n",
            "[CV] END ....svc__C=10, svc__gamma=0.001, svc__kernel=linear; total time=   0.0s\n",
            "[CV] END ....svc__C=10, svc__gamma=0.001, svc__kernel=linear; total time=   0.0s\n",
            "[CV] END ....svc__C=10, svc__gamma=0.001, svc__kernel=linear; total time=   0.0s\n",
            "[CV] END ....svc__C=10, svc__gamma=0.001, svc__kernel=linear; total time=   0.0s\n",
            "[CV] END ....svc__C=10, svc__gamma=0.001, svc__kernel=linear; total time=   0.0s\n",
            "[CV] END .......svc__C=10, svc__gamma=0.001, svc__kernel=rbf; total time=   0.0s\n",
            "[CV] END .......svc__C=10, svc__gamma=0.001, svc__kernel=rbf; total time=   0.0s\n",
            "[CV] END .......svc__C=10, svc__gamma=0.001, svc__kernel=rbf; total time=   0.0s\n",
            "[CV] END .......svc__C=10, svc__gamma=0.001, svc__kernel=rbf; total time=   0.0s\n",
            "[CV] END .......svc__C=10, svc__gamma=0.001, svc__kernel=rbf; total time=   0.0s\n",
            "[CV] END .....svc__C=10, svc__gamma=0.01, svc__kernel=linear; total time=   0.0s\n",
            "[CV] END .....svc__C=10, svc__gamma=0.01, svc__kernel=linear; total time=   0.0s\n",
            "[CV] END .....svc__C=10, svc__gamma=0.01, svc__kernel=linear; total time=   0.0s\n",
            "[CV] END .....svc__C=10, svc__gamma=0.01, svc__kernel=linear; total time=   0.0s\n",
            "[CV] END .....svc__C=10, svc__gamma=0.01, svc__kernel=linear; total time=   0.0s\n",
            "[CV] END ........svc__C=10, svc__gamma=0.01, svc__kernel=rbf; total time=   0.0s\n",
            "[CV] END ........svc__C=10, svc__gamma=0.01, svc__kernel=rbf; total time=   0.0s\n",
            "[CV] END ........svc__C=10, svc__gamma=0.01, svc__kernel=rbf; total time=   0.0s\n",
            "[CV] END ........svc__C=10, svc__gamma=0.01, svc__kernel=rbf; total time=   0.0s\n",
            "[CV] END ........svc__C=10, svc__gamma=0.01, svc__kernel=rbf; total time=   0.0s\n",
            "[CV] END ......svc__C=10, svc__gamma=0.1, svc__kernel=linear; total time=   0.0s\n",
            "[CV] END ......svc__C=10, svc__gamma=0.1, svc__kernel=linear; total time=   0.0s\n",
            "[CV] END ......svc__C=10, svc__gamma=0.1, svc__kernel=linear; total time=   0.0s\n",
            "[CV] END ......svc__C=10, svc__gamma=0.1, svc__kernel=linear; total time=   0.0s\n",
            "[CV] END ......svc__C=10, svc__gamma=0.1, svc__kernel=linear; total time=   0.0s\n",
            "[CV] END .........svc__C=10, svc__gamma=0.1, svc__kernel=rbf; total time=   0.0s\n",
            "[CV] END .........svc__C=10, svc__gamma=0.1, svc__kernel=rbf; total time=   0.0s\n",
            "[CV] END .........svc__C=10, svc__gamma=0.1, svc__kernel=rbf; total time=   0.0s\n",
            "[CV] END .........svc__C=10, svc__gamma=0.1, svc__kernel=rbf; total time=   0.0s\n",
            "[CV] END .........svc__C=10, svc__gamma=0.1, svc__kernel=rbf; total time=   0.0s\n",
            "[CV] END ........svc__C=10, svc__gamma=1, svc__kernel=linear; total time=   0.0s\n",
            "[CV] END ........svc__C=10, svc__gamma=1, svc__kernel=linear; total time=   0.0s\n",
            "[CV] END ........svc__C=10, svc__gamma=1, svc__kernel=linear; total time=   0.0s\n",
            "[CV] END ........svc__C=10, svc__gamma=1, svc__kernel=linear; total time=   0.0s\n",
            "[CV] END ........svc__C=10, svc__gamma=1, svc__kernel=linear; total time=   0.0s\n",
            "[CV] END ...........svc__C=10, svc__gamma=1, svc__kernel=rbf; total time=   0.0s\n",
            "[CV] END ...........svc__C=10, svc__gamma=1, svc__kernel=rbf; total time=   0.0s\n",
            "[CV] END ...........svc__C=10, svc__gamma=1, svc__kernel=rbf; total time=   0.0s\n",
            "[CV] END ...........svc__C=10, svc__gamma=1, svc__kernel=rbf; total time=   0.0s\n",
            "[CV] END ...........svc__C=10, svc__gamma=1, svc__kernel=rbf; total time=   0.0s\n",
            "[CV] END ...svc__C=100, svc__gamma=scale, svc__kernel=linear; total time=   0.0s\n",
            "[CV] END ...svc__C=100, svc__gamma=scale, svc__kernel=linear; total time=   0.0s\n",
            "[CV] END ...svc__C=100, svc__gamma=scale, svc__kernel=linear; total time=   0.0s\n",
            "[CV] END ...svc__C=100, svc__gamma=scale, svc__kernel=linear; total time=   0.0s\n",
            "[CV] END ...svc__C=100, svc__gamma=scale, svc__kernel=linear; total time=   0.0s\n",
            "[CV] END ......svc__C=100, svc__gamma=scale, svc__kernel=rbf; total time=   0.0s\n",
            "[CV] END ......svc__C=100, svc__gamma=scale, svc__kernel=rbf; total time=   0.0s\n",
            "[CV] END ......svc__C=100, svc__gamma=scale, svc__kernel=rbf; total time=   0.0s\n",
            "[CV] END ......svc__C=100, svc__gamma=scale, svc__kernel=rbf; total time=   0.0s\n",
            "[CV] END ......svc__C=100, svc__gamma=scale, svc__kernel=rbf; total time=   0.0s\n",
            "[CV] END ...svc__C=100, svc__gamma=0.001, svc__kernel=linear; total time=   0.0s\n",
            "[CV] END ...svc__C=100, svc__gamma=0.001, svc__kernel=linear; total time=   0.0s\n",
            "[CV] END ...svc__C=100, svc__gamma=0.001, svc__kernel=linear; total time=   0.0s\n",
            "[CV] END ...svc__C=100, svc__gamma=0.001, svc__kernel=linear; total time=   0.0s\n",
            "[CV] END ...svc__C=100, svc__gamma=0.001, svc__kernel=linear; total time=   0.0s\n",
            "[CV] END ......svc__C=100, svc__gamma=0.001, svc__kernel=rbf; total time=   0.0s\n",
            "[CV] END ......svc__C=100, svc__gamma=0.001, svc__kernel=rbf; total time=   0.0s\n",
            "[CV] END ......svc__C=100, svc__gamma=0.001, svc__kernel=rbf; total time=   0.0s\n",
            "[CV] END ......svc__C=100, svc__gamma=0.001, svc__kernel=rbf; total time=   0.0s\n",
            "[CV] END ......svc__C=100, svc__gamma=0.001, svc__kernel=rbf; total time=   0.0s\n",
            "[CV] END ....svc__C=100, svc__gamma=0.01, svc__kernel=linear; total time=   0.0s\n",
            "[CV] END ....svc__C=100, svc__gamma=0.01, svc__kernel=linear; total time=   0.0s\n",
            "[CV] END ....svc__C=100, svc__gamma=0.01, svc__kernel=linear; total time=   0.0s\n",
            "[CV] END ....svc__C=100, svc__gamma=0.01, svc__kernel=linear; total time=   0.0s\n",
            "[CV] END ....svc__C=100, svc__gamma=0.01, svc__kernel=linear; total time=   0.0s\n",
            "[CV] END .......svc__C=100, svc__gamma=0.01, svc__kernel=rbf; total time=   0.0s\n",
            "[CV] END .......svc__C=100, svc__gamma=0.01, svc__kernel=rbf; total time=   0.0s\n",
            "[CV] END .......svc__C=100, svc__gamma=0.01, svc__kernel=rbf; total time=   0.0s\n",
            "[CV] END .......svc__C=100, svc__gamma=0.01, svc__kernel=rbf; total time=   0.0s\n",
            "[CV] END .......svc__C=100, svc__gamma=0.01, svc__kernel=rbf; total time=   0.0s\n",
            "[CV] END .....svc__C=100, svc__gamma=0.1, svc__kernel=linear; total time=   0.0s\n",
            "[CV] END .....svc__C=100, svc__gamma=0.1, svc__kernel=linear; total time=   0.0s\n",
            "[CV] END .....svc__C=100, svc__gamma=0.1, svc__kernel=linear; total time=   0.0s\n",
            "[CV] END .....svc__C=100, svc__gamma=0.1, svc__kernel=linear; total time=   0.0s\n",
            "[CV] END .....svc__C=100, svc__gamma=0.1, svc__kernel=linear; total time=   0.0s\n",
            "[CV] END ........svc__C=100, svc__gamma=0.1, svc__kernel=rbf; total time=   0.0s\n",
            "[CV] END ........svc__C=100, svc__gamma=0.1, svc__kernel=rbf; total time=   0.0s\n",
            "[CV] END ........svc__C=100, svc__gamma=0.1, svc__kernel=rbf; total time=   0.0s\n",
            "[CV] END ........svc__C=100, svc__gamma=0.1, svc__kernel=rbf; total time=   0.0s\n",
            "[CV] END ........svc__C=100, svc__gamma=0.1, svc__kernel=rbf; total time=   0.0s\n",
            "[CV] END .......svc__C=100, svc__gamma=1, svc__kernel=linear; total time=   0.0s\n",
            "[CV] END .......svc__C=100, svc__gamma=1, svc__kernel=linear; total time=   0.0s\n",
            "[CV] END .......svc__C=100, svc__gamma=1, svc__kernel=linear; total time=   0.0s\n",
            "[CV] END .......svc__C=100, svc__gamma=1, svc__kernel=linear; total time=   0.0s\n",
            "[CV] END .......svc__C=100, svc__gamma=1, svc__kernel=linear; total time=   0.0s\n",
            "[CV] END ..........svc__C=100, svc__gamma=1, svc__kernel=rbf; total time=   0.0s\n",
            "[CV] END ..........svc__C=100, svc__gamma=1, svc__kernel=rbf; total time=   0.0s\n",
            "[CV] END ..........svc__C=100, svc__gamma=1, svc__kernel=rbf; total time=   0.0s\n",
            "[CV] END ..........svc__C=100, svc__gamma=1, svc__kernel=rbf; total time=   0.0s\n",
            "[CV] END ..........svc__C=100, svc__gamma=1, svc__kernel=rbf; total time=   0.0s\n",
            "Best Parameters: {'svc__C': 0.01, 'svc__gamma': 1, 'svc__kernel': 'rbf'}\n",
            "Best ROC-AUC Score: 0.6709523809523809\n"
          ]
        }
      ]
    },
    {
      "cell_type": "code",
      "source": [
        "# svm.fit(X_train, y_train)\n",
        "y_test_pred_svm = best_model.predict(X_test)\n",
        "y_val_pred_svm = best_model.predict(X_val)"
      ],
      "metadata": {
        "id": "LUpq8UgltSD_"
      },
      "execution_count": 1374,
      "outputs": []
    },
    {
      "cell_type": "code",
      "source": [
        "accuracy_val_svm = accuracy(y_val, y_val_pred_svm)\n",
        "precision_val_svm = precision_manual(y_val, y_val_pred_svm, average='weighted')\n",
        "recall_val_svm = recall_manual(y_val, y_val_pred_svm, average='weighted')\n",
        "f1_val_svm = f1_score_manual(y_val, y_val_pred_svm, average='weighted')\n",
        "\n",
        "print(f\"Validation Accuracy (SVM): {accuracy_val_svm}\")\n",
        "print(f\"Validation Precision (SVM): {precision_val_svm}\")\n",
        "print(f\"Validation Recall (SVM): {recall_val_svm}\")\n",
        "print(f\"Validation F1 Score (SVM): {f1_val_svm}\")"
      ],
      "metadata": {
        "colab": {
          "base_uri": "https://localhost:8080/"
        },
        "id": "OrYcU1k3tURQ",
        "outputId": "01c13273-c53e-44a7-d90d-5aaaff29e708"
      },
      "execution_count": 1375,
      "outputs": [
        {
          "output_type": "stream",
          "name": "stdout",
          "text": [
            "Validation Accuracy (SVM): 0.6923076923076923\n",
            "Validation Precision (SVM): 0.4792899408284023\n",
            "Validation Recall (SVM): 0.6923076923076923\n",
            "Validation F1 Score (SVM): 0.5664335664335663\n"
          ]
        }
      ]
    },
    {
      "cell_type": "code",
      "source": [
        "accuracy_test_svm = accuracy(y_test, y_test_pred_svm)\n",
        "precision_test_svm = precision_manual(y_test, y_test_pred_svm, average='weighted')\n",
        "recall_test_svm = recall_manual(y_test, y_test_pred_svm, average='weighted')\n",
        "f1_test_svm = f1_score_manual(y_test, y_test_pred_svm, average='weighted')\n",
        "\n",
        "print(f\"Test Accuracy (SVM): {accuracy_test_svm}\")\n",
        "print(f\"Test Precision (SVM): {precision_test_svm}\")\n",
        "print(f\"Test Recall (SVM): {recall_test_svm}\")\n",
        "print(f\"Test F1 Score (SVM): {f1_test_svm}\")"
      ],
      "metadata": {
        "colab": {
          "base_uri": "https://localhost:8080/"
        },
        "id": "pn79ebt8do9t",
        "outputId": "ebc3dd43-4322-4d0f-9a3b-c6f346f15abb"
      },
      "execution_count": 1376,
      "outputs": [
        {
          "output_type": "stream",
          "name": "stdout",
          "text": [
            "Test Accuracy (SVM): 0.6428571428571429\n",
            "Test Precision (SVM): 0.41326530612244905\n",
            "Test Recall (SVM): 0.6428571428571429\n",
            "Test F1 Score (SVM): 0.5031055900621119\n"
          ]
        }
      ]
    },
    {
      "cell_type": "code",
      "source": [
        "conf_matrix_svm = confusion_matrix(y_val, y_val_pred_svm)\n",
        "\n",
        "plt.figure(figsize=(8, 6))\n",
        "sns.heatmap(conf_matrix_svm, annot=True, fmt=\"d\", cmap=\"Blues\", xticklabels=[1, 2, 3], yticklabels=[1, 2, 3])\n",
        "plt.title(\"SVM Validation Confusion Matrix\")\n",
        "plt.xlabel(\"Predicted\")\n",
        "plt.ylabel(\"Actual\")\n",
        "plt.show()"
      ],
      "metadata": {
        "colab": {
          "base_uri": "https://localhost:8080/",
          "height": 564
        },
        "id": "KJ4ue8B9tW3q",
        "outputId": "f7e33815-7f22-47d7-806a-0c57e32ee89d"
      },
      "execution_count": 1377,
      "outputs": [
        {
          "output_type": "display_data",
          "data": {
            "text/plain": [
              "<Figure size 800x600 with 2 Axes>"
            ],
            "image/png": "[encoded data removed]"
          },
          "metadata": {}
        }
      ]
    },
    {
      "cell_type": "code",
      "source": [
        "conf_matrix_svm = confusion_matrix(y_test, y_test_pred_svm)\n",
        "\n",
        "plt.figure(figsize=(8, 6))\n",
        "sns.heatmap(conf_matrix_svm, annot=True, fmt=\"d\", cmap=\"Blues\", xticklabels=[1, 2, 3], yticklabels=[1, 2, 3])\n",
        "plt.title(\"SVM Test Confusion Matrix\")\n",
        "plt.xlabel(\"Predicted\")\n",
        "plt.ylabel(\"Actual\")\n",
        "plt.show()"
      ],
      "metadata": {
        "colab": {
          "base_uri": "https://localhost:8080/",
          "height": 564
        },
        "id": "_FQLNEaXeAUF",
        "outputId": "bc03ecfb-b2c3-440a-c7b7-02c1efca2c73"
      },
      "execution_count": 1378,
      "outputs": [
        {
          "output_type": "display_data",
          "data": {
            "text/plain": [
              "<Figure size 800x600 with 2 Axes>"
            ],
            "image/png": "[encoded data removed]"
          },
          "metadata": {}
        }
      ]
    },
    {
      "cell_type": "code",
      "source": [
        "y_score_svm = best_model.predict_proba(X_val)[:, 1]\n",
        "\n",
        "precision, recall, _ = precision_recall_curve(y_val, y_score_svm)\n",
        "\n",
        "plt.figure(figsize=(8, 6))\n",
        "plt.plot(recall, precision, marker='.', label='SVM')\n",
        "plt.title('Validation Precision-Recall Curve for SVM (Binary Classification) ')\n",
        "plt.xlabel('Recall')\n",
        "plt.ylabel('Precision')\n",
        "plt.legend(loc='best')\n",
        "plt.show()"
      ],
      "metadata": {
        "colab": {
          "base_uri": "https://localhost:8080/",
          "height": 564
        },
        "id": "n9fh8K8NtY7O",
        "outputId": "04319342-5cd7-4e5e-fbb9-f40e2102422b"
      },
      "execution_count": 1379,
      "outputs": [
        {
          "output_type": "display_data",
          "data": {
            "text/plain": [
              "<Figure size 800x600 with 1 Axes>"
            ],
            "image/png": "[encoded data removed]"
          },
          "metadata": {}
        }
      ]
    },
    {
      "cell_type": "code",
      "source": [
        "y_score_svm = best_model.predict_proba(X_test)[:, 1]\n",
        "\n",
        "precision, recall, _ = precision_recall_curve(y_test, y_score_svm)\n",
        "\n",
        "plt.figure(figsize=(8, 6))\n",
        "plt.plot(recall, precision, marker='.', label='SVM')\n",
        "plt.title('Precision-Recall Curve for SVM (Binary Classification)')\n",
        "plt.xlabel('Recall')\n",
        "plt.ylabel('Precision')\n",
        "plt.legend(loc='best')\n",
        "plt.show()"
      ],
      "metadata": {
        "id": "MRMqI3Pino2w",
        "colab": {
          "base_uri": "https://localhost:8080/",
          "height": 564
        },
        "outputId": "f651262b-54ad-4e91-9dfd-0012c3bfd825"
      },
      "execution_count": 1380,
      "outputs": [
        {
          "output_type": "display_data",
          "data": {
            "text/plain": [
              "<Figure size 800x600 with 1 Axes>"
            ],
            "image/png": "[encoded data removed]"
          },
          "metadata": {}
        }
      ]
    },
    {
      "cell_type": "code",
      "source": [],
      "metadata": {
        "id": "ybkghm69gEAG"
      },
      "execution_count": 1380,
      "outputs": []
    }
  ]
}